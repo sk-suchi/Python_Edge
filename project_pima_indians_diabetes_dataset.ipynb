{
  "cells": [
    {
      "cell_type": "markdown",
      "id": "2cdb7813",
      "metadata": {
        "papermill": {
          "duration": 0.004825,
          "end_time": "2025-07-13T09:20:24.316677",
          "exception": false,
          "start_time": "2025-07-13T09:20:24.311852",
          "status": "completed"
        },
        "tags": [],
        "id": "2cdb7813"
      },
      "source": [
        "#  🩺 Pima Indians Diabetes Prediction\n",
        "\n",
        "In this notebook, we will analyze and model the Pima Indians Diabetes dataset using classical supervised learning techniques and ensemble models like Random Forest, AdaBoost, and Gradient Boosting.\n",
        "\n",
        "We aim to:\n",
        "- Explore the dataset and fix any data quality issues\n",
        "- Train baseline and ensemble models\n",
        "- Compare performance using accuracy, classification report, and ROC AUC\n"
      ]
    },
    {
      "cell_type": "code",
      "execution_count": 3,
      "id": "adab6044",
      "metadata": {
        "execution": {
          "iopub.execute_input": "2025-07-13T09:20:24.327915Z",
          "iopub.status.busy": "2025-07-13T09:20:24.327048Z",
          "iopub.status.idle": "2025-07-13T09:20:24.368520Z",
          "shell.execute_reply": "2025-07-13T09:20:24.367653Z"
        },
        "papermill": {
          "duration": 0.048815,
          "end_time": "2025-07-13T09:20:24.370114",
          "exception": false,
          "start_time": "2025-07-13T09:20:24.321299",
          "status": "completed"
        },
        "tags": [],
        "colab": {
          "base_uri": "https://localhost:8080/",
          "height": 206
        },
        "id": "adab6044",
        "outputId": "be1a67b5-e454-4383-f776-1b7160eb627b"
      },
      "outputs": [
        {
          "output_type": "execute_result",
          "data": {
            "text/plain": [
              "   Pregnancies  Glucose  BloodPressure  SkinThickness  Insulin   BMI  \\\n",
              "0            6      148             72             35        0  33.6   \n",
              "1            1       85             66             29        0  26.6   \n",
              "2            8      183             64              0        0  23.3   \n",
              "3            1       89             66             23       94  28.1   \n",
              "4            0      137             40             35      168  43.1   \n",
              "\n",
              "   DiabetesPedigreeFunction  Age  Outcome  \n",
              "0                     0.627   50        1  \n",
              "1                     0.351   31        0  \n",
              "2                     0.672   32        1  \n",
              "3                     0.167   21        0  \n",
              "4                     2.288   33        1  "
            ],
            "text/html": [
              "\n",
              "  <div id=\"df-c28c67af-9cfd-439f-a5ca-92bed12aa903\" class=\"colab-df-container\">\n",
              "    <div>\n",
              "<style scoped>\n",
              "    .dataframe tbody tr th:only-of-type {\n",
              "        vertical-align: middle;\n",
              "    }\n",
              "\n",
              "    .dataframe tbody tr th {\n",
              "        vertical-align: top;\n",
              "    }\n",
              "\n",
              "    .dataframe thead th {\n",
              "        text-align: right;\n",
              "    }\n",
              "</style>\n",
              "<table border=\"1\" class=\"dataframe\">\n",
              "  <thead>\n",
              "    <tr style=\"text-align: right;\">\n",
              "      <th></th>\n",
              "      <th>Pregnancies</th>\n",
              "      <th>Glucose</th>\n",
              "      <th>BloodPressure</th>\n",
              "      <th>SkinThickness</th>\n",
              "      <th>Insulin</th>\n",
              "      <th>BMI</th>\n",
              "      <th>DiabetesPedigreeFunction</th>\n",
              "      <th>Age</th>\n",
              "      <th>Outcome</th>\n",
              "    </tr>\n",
              "  </thead>\n",
              "  <tbody>\n",
              "    <tr>\n",
              "      <th>0</th>\n",
              "      <td>6</td>\n",
              "      <td>148</td>\n",
              "      <td>72</td>\n",
              "      <td>35</td>\n",
              "      <td>0</td>\n",
              "      <td>33.6</td>\n",
              "      <td>0.627</td>\n",
              "      <td>50</td>\n",
              "      <td>1</td>\n",
              "    </tr>\n",
              "    <tr>\n",
              "      <th>1</th>\n",
              "      <td>1</td>\n",
              "      <td>85</td>\n",
              "      <td>66</td>\n",
              "      <td>29</td>\n",
              "      <td>0</td>\n",
              "      <td>26.6</td>\n",
              "      <td>0.351</td>\n",
              "      <td>31</td>\n",
              "      <td>0</td>\n",
              "    </tr>\n",
              "    <tr>\n",
              "      <th>2</th>\n",
              "      <td>8</td>\n",
              "      <td>183</td>\n",
              "      <td>64</td>\n",
              "      <td>0</td>\n",
              "      <td>0</td>\n",
              "      <td>23.3</td>\n",
              "      <td>0.672</td>\n",
              "      <td>32</td>\n",
              "      <td>1</td>\n",
              "    </tr>\n",
              "    <tr>\n",
              "      <th>3</th>\n",
              "      <td>1</td>\n",
              "      <td>89</td>\n",
              "      <td>66</td>\n",
              "      <td>23</td>\n",
              "      <td>94</td>\n",
              "      <td>28.1</td>\n",
              "      <td>0.167</td>\n",
              "      <td>21</td>\n",
              "      <td>0</td>\n",
              "    </tr>\n",
              "    <tr>\n",
              "      <th>4</th>\n",
              "      <td>0</td>\n",
              "      <td>137</td>\n",
              "      <td>40</td>\n",
              "      <td>35</td>\n",
              "      <td>168</td>\n",
              "      <td>43.1</td>\n",
              "      <td>2.288</td>\n",
              "      <td>33</td>\n",
              "      <td>1</td>\n",
              "    </tr>\n",
              "  </tbody>\n",
              "</table>\n",
              "</div>\n",
              "    <div class=\"colab-df-buttons\">\n",
              "\n",
              "  <div class=\"colab-df-container\">\n",
              "    <button class=\"colab-df-convert\" onclick=\"convertToInteractive('df-c28c67af-9cfd-439f-a5ca-92bed12aa903')\"\n",
              "            title=\"Convert this dataframe to an interactive table.\"\n",
              "            style=\"display:none;\">\n",
              "\n",
              "  <svg xmlns=\"http://www.w3.org/2000/svg\" height=\"24px\" viewBox=\"0 -960 960 960\">\n",
              "    <path d=\"M120-120v-720h720v720H120Zm60-500h600v-160H180v160Zm220 220h160v-160H400v160Zm0 220h160v-160H400v160ZM180-400h160v-160H180v160Zm440 0h160v-160H620v160ZM180-180h160v-160H180v160Zm440 0h160v-160H620v160Z\"/>\n",
              "  </svg>\n",
              "    </button>\n",
              "\n",
              "  <style>\n",
              "    .colab-df-container {\n",
              "      display:flex;\n",
              "      gap: 12px;\n",
              "    }\n",
              "\n",
              "    .colab-df-convert {\n",
              "      background-color: #E8F0FE;\n",
              "      border: none;\n",
              "      border-radius: 50%;\n",
              "      cursor: pointer;\n",
              "      display: none;\n",
              "      fill: #1967D2;\n",
              "      height: 32px;\n",
              "      padding: 0 0 0 0;\n",
              "      width: 32px;\n",
              "    }\n",
              "\n",
              "    .colab-df-convert:hover {\n",
              "      background-color: #E2EBFA;\n",
              "      box-shadow: 0px 1px 2px rgba(60, 64, 67, 0.3), 0px 1px 3px 1px rgba(60, 64, 67, 0.15);\n",
              "      fill: #174EA6;\n",
              "    }\n",
              "\n",
              "    .colab-df-buttons div {\n",
              "      margin-bottom: 4px;\n",
              "    }\n",
              "\n",
              "    [theme=dark] .colab-df-convert {\n",
              "      background-color: #3B4455;\n",
              "      fill: #D2E3FC;\n",
              "    }\n",
              "\n",
              "    [theme=dark] .colab-df-convert:hover {\n",
              "      background-color: #434B5C;\n",
              "      box-shadow: 0px 1px 3px 1px rgba(0, 0, 0, 0.15);\n",
              "      filter: drop-shadow(0px 1px 2px rgba(0, 0, 0, 0.3));\n",
              "      fill: #FFFFFF;\n",
              "    }\n",
              "  </style>\n",
              "\n",
              "    <script>\n",
              "      const buttonEl =\n",
              "        document.querySelector('#df-c28c67af-9cfd-439f-a5ca-92bed12aa903 button.colab-df-convert');\n",
              "      buttonEl.style.display =\n",
              "        google.colab.kernel.accessAllowed ? 'block' : 'none';\n",
              "\n",
              "      async function convertToInteractive(key) {\n",
              "        const element = document.querySelector('#df-c28c67af-9cfd-439f-a5ca-92bed12aa903');\n",
              "        const dataTable =\n",
              "          await google.colab.kernel.invokeFunction('convertToInteractive',\n",
              "                                                    [key], {});\n",
              "        if (!dataTable) return;\n",
              "\n",
              "        const docLinkHtml = 'Like what you see? Visit the ' +\n",
              "          '<a target=\"_blank\" href=https://colab.research.google.com/notebooks/data_table.ipynb>data table notebook</a>'\n",
              "          + ' to learn more about interactive tables.';\n",
              "        element.innerHTML = '';\n",
              "        dataTable['output_type'] = 'display_data';\n",
              "        await google.colab.output.renderOutput(dataTable, element);\n",
              "        const docLink = document.createElement('div');\n",
              "        docLink.innerHTML = docLinkHtml;\n",
              "        element.appendChild(docLink);\n",
              "      }\n",
              "    </script>\n",
              "  </div>\n",
              "\n",
              "\n",
              "    <div id=\"df-973ec466-0661-414f-a4b5-be7180e8cbcf\">\n",
              "      <button class=\"colab-df-quickchart\" onclick=\"quickchart('df-973ec466-0661-414f-a4b5-be7180e8cbcf')\"\n",
              "                title=\"Suggest charts\"\n",
              "                style=\"display:none;\">\n",
              "\n",
              "<svg xmlns=\"http://www.w3.org/2000/svg\" height=\"24px\"viewBox=\"0 0 24 24\"\n",
              "     width=\"24px\">\n",
              "    <g>\n",
              "        <path d=\"M19 3H5c-1.1 0-2 .9-2 2v14c0 1.1.9 2 2 2h14c1.1 0 2-.9 2-2V5c0-1.1-.9-2-2-2zM9 17H7v-7h2v7zm4 0h-2V7h2v10zm4 0h-2v-4h2v4z\"/>\n",
              "    </g>\n",
              "</svg>\n",
              "      </button>\n",
              "\n",
              "<style>\n",
              "  .colab-df-quickchart {\n",
              "      --bg-color: #E8F0FE;\n",
              "      --fill-color: #1967D2;\n",
              "      --hover-bg-color: #E2EBFA;\n",
              "      --hover-fill-color: #174EA6;\n",
              "      --disabled-fill-color: #AAA;\n",
              "      --disabled-bg-color: #DDD;\n",
              "  }\n",
              "\n",
              "  [theme=dark] .colab-df-quickchart {\n",
              "      --bg-color: #3B4455;\n",
              "      --fill-color: #D2E3FC;\n",
              "      --hover-bg-color: #434B5C;\n",
              "      --hover-fill-color: #FFFFFF;\n",
              "      --disabled-bg-color: #3B4455;\n",
              "      --disabled-fill-color: #666;\n",
              "  }\n",
              "\n",
              "  .colab-df-quickchart {\n",
              "    background-color: var(--bg-color);\n",
              "    border: none;\n",
              "    border-radius: 50%;\n",
              "    cursor: pointer;\n",
              "    display: none;\n",
              "    fill: var(--fill-color);\n",
              "    height: 32px;\n",
              "    padding: 0;\n",
              "    width: 32px;\n",
              "  }\n",
              "\n",
              "  .colab-df-quickchart:hover {\n",
              "    background-color: var(--hover-bg-color);\n",
              "    box-shadow: 0 1px 2px rgba(60, 64, 67, 0.3), 0 1px 3px 1px rgba(60, 64, 67, 0.15);\n",
              "    fill: var(--button-hover-fill-color);\n",
              "  }\n",
              "\n",
              "  .colab-df-quickchart-complete:disabled,\n",
              "  .colab-df-quickchart-complete:disabled:hover {\n",
              "    background-color: var(--disabled-bg-color);\n",
              "    fill: var(--disabled-fill-color);\n",
              "    box-shadow: none;\n",
              "  }\n",
              "\n",
              "  .colab-df-spinner {\n",
              "    border: 2px solid var(--fill-color);\n",
              "    border-color: transparent;\n",
              "    border-bottom-color: var(--fill-color);\n",
              "    animation:\n",
              "      spin 1s steps(1) infinite;\n",
              "  }\n",
              "\n",
              "  @keyframes spin {\n",
              "    0% {\n",
              "      border-color: transparent;\n",
              "      border-bottom-color: var(--fill-color);\n",
              "      border-left-color: var(--fill-color);\n",
              "    }\n",
              "    20% {\n",
              "      border-color: transparent;\n",
              "      border-left-color: var(--fill-color);\n",
              "      border-top-color: var(--fill-color);\n",
              "    }\n",
              "    30% {\n",
              "      border-color: transparent;\n",
              "      border-left-color: var(--fill-color);\n",
              "      border-top-color: var(--fill-color);\n",
              "      border-right-color: var(--fill-color);\n",
              "    }\n",
              "    40% {\n",
              "      border-color: transparent;\n",
              "      border-right-color: var(--fill-color);\n",
              "      border-top-color: var(--fill-color);\n",
              "    }\n",
              "    60% {\n",
              "      border-color: transparent;\n",
              "      border-right-color: var(--fill-color);\n",
              "    }\n",
              "    80% {\n",
              "      border-color: transparent;\n",
              "      border-right-color: var(--fill-color);\n",
              "      border-bottom-color: var(--fill-color);\n",
              "    }\n",
              "    90% {\n",
              "      border-color: transparent;\n",
              "      border-bottom-color: var(--fill-color);\n",
              "    }\n",
              "  }\n",
              "</style>\n",
              "\n",
              "      <script>\n",
              "        async function quickchart(key) {\n",
              "          const quickchartButtonEl =\n",
              "            document.querySelector('#' + key + ' button');\n",
              "          quickchartButtonEl.disabled = true;  // To prevent multiple clicks.\n",
              "          quickchartButtonEl.classList.add('colab-df-spinner');\n",
              "          try {\n",
              "            const charts = await google.colab.kernel.invokeFunction(\n",
              "                'suggestCharts', [key], {});\n",
              "          } catch (error) {\n",
              "            console.error('Error during call to suggestCharts:', error);\n",
              "          }\n",
              "          quickchartButtonEl.classList.remove('colab-df-spinner');\n",
              "          quickchartButtonEl.classList.add('colab-df-quickchart-complete');\n",
              "        }\n",
              "        (() => {\n",
              "          let quickchartButtonEl =\n",
              "            document.querySelector('#df-973ec466-0661-414f-a4b5-be7180e8cbcf button');\n",
              "          quickchartButtonEl.style.display =\n",
              "            google.colab.kernel.accessAllowed ? 'block' : 'none';\n",
              "        })();\n",
              "      </script>\n",
              "    </div>\n",
              "\n",
              "    </div>\n",
              "  </div>\n"
            ],
            "application/vnd.google.colaboratory.intrinsic+json": {
              "type": "dataframe",
              "variable_name": "df",
              "summary": "{\n  \"name\": \"df\",\n  \"rows\": 768,\n  \"fields\": [\n    {\n      \"column\": \"Pregnancies\",\n      \"properties\": {\n        \"dtype\": \"number\",\n        \"std\": 3,\n        \"min\": 0,\n        \"max\": 17,\n        \"num_unique_values\": 17,\n        \"samples\": [\n          6,\n          1,\n          3\n        ],\n        \"semantic_type\": \"\",\n        \"description\": \"\"\n      }\n    },\n    {\n      \"column\": \"Glucose\",\n      \"properties\": {\n        \"dtype\": \"number\",\n        \"std\": 31,\n        \"min\": 0,\n        \"max\": 199,\n        \"num_unique_values\": 136,\n        \"samples\": [\n          151,\n          101,\n          112\n        ],\n        \"semantic_type\": \"\",\n        \"description\": \"\"\n      }\n    },\n    {\n      \"column\": \"BloodPressure\",\n      \"properties\": {\n        \"dtype\": \"number\",\n        \"std\": 19,\n        \"min\": 0,\n        \"max\": 122,\n        \"num_unique_values\": 47,\n        \"samples\": [\n          86,\n          46,\n          85\n        ],\n        \"semantic_type\": \"\",\n        \"description\": \"\"\n      }\n    },\n    {\n      \"column\": \"SkinThickness\",\n      \"properties\": {\n        \"dtype\": \"number\",\n        \"std\": 15,\n        \"min\": 0,\n        \"max\": 99,\n        \"num_unique_values\": 51,\n        \"samples\": [\n          7,\n          12,\n          48\n        ],\n        \"semantic_type\": \"\",\n        \"description\": \"\"\n      }\n    },\n    {\n      \"column\": \"Insulin\",\n      \"properties\": {\n        \"dtype\": \"number\",\n        \"std\": 115,\n        \"min\": 0,\n        \"max\": 846,\n        \"num_unique_values\": 186,\n        \"samples\": [\n          52,\n          41,\n          183\n        ],\n        \"semantic_type\": \"\",\n        \"description\": \"\"\n      }\n    },\n    {\n      \"column\": \"BMI\",\n      \"properties\": {\n        \"dtype\": \"number\",\n        \"std\": 7.8841603203754405,\n        \"min\": 0.0,\n        \"max\": 67.1,\n        \"num_unique_values\": 248,\n        \"samples\": [\n          19.9,\n          31.0,\n          38.1\n        ],\n        \"semantic_type\": \"\",\n        \"description\": \"\"\n      }\n    },\n    {\n      \"column\": \"DiabetesPedigreeFunction\",\n      \"properties\": {\n        \"dtype\": \"number\",\n        \"std\": 0.33132859501277484,\n        \"min\": 0.078,\n        \"max\": 2.42,\n        \"num_unique_values\": 517,\n        \"samples\": [\n          1.731,\n          0.426,\n          0.138\n        ],\n        \"semantic_type\": \"\",\n        \"description\": \"\"\n      }\n    },\n    {\n      \"column\": \"Age\",\n      \"properties\": {\n        \"dtype\": \"number\",\n        \"std\": 11,\n        \"min\": 21,\n        \"max\": 81,\n        \"num_unique_values\": 52,\n        \"samples\": [\n          60,\n          47,\n          72\n        ],\n        \"semantic_type\": \"\",\n        \"description\": \"\"\n      }\n    },\n    {\n      \"column\": \"Outcome\",\n      \"properties\": {\n        \"dtype\": \"number\",\n        \"std\": 0,\n        \"min\": 0,\n        \"max\": 1,\n        \"num_unique_values\": 2,\n        \"samples\": [\n          0,\n          1\n        ],\n        \"semantic_type\": \"\",\n        \"description\": \"\"\n      }\n    }\n  ]\n}"
            }
          },
          "metadata": {},
          "execution_count": 3
        }
      ],
      "source": [
        "\n",
        "import pandas as pd\n",
        "import numpy as np\n",
        "\n",
        "\n",
        "df = pd.read_csv(\"/content/diabetes (1).csv\")\n",
        "\n",
        "\n",
        "df.head()\n"
      ]
    },
    {
      "cell_type": "code",
      "execution_count": 4,
      "id": "1d5e3e62",
      "metadata": {
        "execution": {
          "iopub.execute_input": "2025-07-13T09:20:24.388608Z",
          "iopub.status.busy": "2025-07-13T09:20:24.388288Z",
          "iopub.status.idle": "2025-07-13T09:20:24.415781Z",
          "shell.execute_reply": "2025-07-13T09:20:24.414695Z"
        },
        "papermill": {
          "duration": 0.034166,
          "end_time": "2025-07-13T09:20:24.417243",
          "exception": false,
          "start_time": "2025-07-13T09:20:24.383077",
          "status": "completed"
        },
        "tags": [],
        "colab": {
          "base_uri": "https://localhost:8080/"
        },
        "id": "1d5e3e62",
        "outputId": "012f3c8c-d22a-459b-c5be-fb5fb3bd3637"
      },
      "outputs": [
        {
          "output_type": "stream",
          "name": "stdout",
          "text": [
            "<class 'pandas.core.frame.DataFrame'>\n",
            "RangeIndex: 768 entries, 0 to 767\n",
            "Data columns (total 9 columns):\n",
            " #   Column                    Non-Null Count  Dtype  \n",
            "---  ------                    --------------  -----  \n",
            " 0   Pregnancies               768 non-null    int64  \n",
            " 1   Glucose                   768 non-null    int64  \n",
            " 2   BloodPressure             768 non-null    int64  \n",
            " 3   SkinThickness             768 non-null    int64  \n",
            " 4   Insulin                   768 non-null    int64  \n",
            " 5   BMI                       768 non-null    float64\n",
            " 6   DiabetesPedigreeFunction  768 non-null    float64\n",
            " 7   Age                       768 non-null    int64  \n",
            " 8   Outcome                   768 non-null    int64  \n",
            "dtypes: float64(2), int64(7)\n",
            "memory usage: 54.1 KB\n"
          ]
        }
      ],
      "source": [
        "df.info()"
      ]
    },
    {
      "cell_type": "code",
      "execution_count": 5,
      "id": "a4f168ca",
      "metadata": {
        "execution": {
          "iopub.execute_input": "2025-07-13T09:20:24.428337Z",
          "iopub.status.busy": "2025-07-13T09:20:24.427667Z",
          "iopub.status.idle": "2025-07-13T09:20:24.434328Z",
          "shell.execute_reply": "2025-07-13T09:20:24.433274Z"
        },
        "papermill": {
          "duration": 0.013842,
          "end_time": "2025-07-13T09:20:24.435890",
          "exception": false,
          "start_time": "2025-07-13T09:20:24.422048",
          "status": "completed"
        },
        "tags": [],
        "colab": {
          "base_uri": "https://localhost:8080/"
        },
        "id": "a4f168ca",
        "outputId": "1d91cd3a-1fda-4a2c-ea08-d61da4899202"
      },
      "outputs": [
        {
          "output_type": "stream",
          "name": "stdout",
          "text": [
            "Glucose: 5 zero values\n",
            "BloodPressure: 35 zero values\n",
            "SkinThickness: 227 zero values\n",
            "Insulin: 374 zero values\n",
            "BMI: 11 zero values\n"
          ]
        }
      ],
      "source": [
        "cols_with_zero = ['Glucose', 'BloodPressure', 'SkinThickness', 'Insulin', 'BMI']\n",
        "\n",
        "for col in cols_with_zero:\n",
        "    zero_count = (df[col] == 0).sum()\n",
        "    print(f\"{col}: {zero_count} zero values\")\n"
      ]
    },
    {
      "cell_type": "code",
      "execution_count": 6,
      "id": "c15e1899",
      "metadata": {
        "execution": {
          "iopub.execute_input": "2025-07-13T09:20:24.446106Z",
          "iopub.status.busy": "2025-07-13T09:20:24.445813Z",
          "iopub.status.idle": "2025-07-13T09:20:26.521428Z",
          "shell.execute_reply": "2025-07-13T09:20:26.520543Z"
        },
        "papermill": {
          "duration": 2.082247,
          "end_time": "2025-07-13T09:20:26.522809",
          "exception": false,
          "start_time": "2025-07-13T09:20:24.440562",
          "status": "completed"
        },
        "tags": [],
        "colab": {
          "base_uri": "https://localhost:8080/",
          "height": 472
        },
        "id": "c15e1899",
        "outputId": "8b9aa947-804f-464e-9a82-c114c7336a91"
      },
      "outputs": [
        {
          "output_type": "display_data",
          "data": {
            "text/plain": [
              "<Figure size 640x480 with 1 Axes>"
            ],
            "image/png": "[encoded data removed]"
          },
          "metadata": {}
        }
      ],
      "source": [
        "import seaborn as sns\n",
        "import matplotlib.pyplot as plt\n",
        "\n",
        "sns.countplot(x='Outcome', data=df)\n",
        "plt.title(\"Distribution of patients with and without diabetes\")\n",
        "plt.xlabel(\"Outcome (0 = No disease, 1 = Has disease)\")\n",
        "plt.ylabel(\"Count\")\n",
        "plt.show()\n"
      ]
    },
    {
      "cell_type": "code",
      "execution_count": 7,
      "id": "2345d45e",
      "metadata": {
        "execution": {
          "iopub.execute_input": "2025-07-13T09:20:26.535284Z",
          "iopub.status.busy": "2025-07-13T09:20:26.534805Z",
          "iopub.status.idle": "2025-07-13T09:20:26.971221Z",
          "shell.execute_reply": "2025-07-13T09:20:26.970133Z"
        },
        "papermill": {
          "duration": 0.446291,
          "end_time": "2025-07-13T09:20:26.974298",
          "exception": false,
          "start_time": "2025-07-13T09:20:26.528007",
          "status": "completed"
        },
        "tags": [],
        "colab": {
          "base_uri": "https://localhost:8080/",
          "height": 866
        },
        "id": "2345d45e",
        "outputId": "dced88fe-677d-47ec-ab7e-b08441e015e6"
      },
      "outputs": [
        {
          "output_type": "display_data",
          "data": {
            "text/plain": [
              "<Figure size 1000x800 with 2 Axes>"
            ],
            "image/png": "[encoded data removed]"
          },
          "metadata": {}
        }
      ],
      "source": [
        "plt.figure(figsize=(10, 8))\n",
        "sns.heatmap(df.corr(), annot=True, fmt=\".2f\", cmap=\"coolwarm\", square=True)\n",
        "plt.title(\"Correlation matrix between features and Outcome\")\n",
        "plt.show()\n"
      ]
    },
    {
      "cell_type": "markdown",
      "id": "9fe3a2c1",
      "metadata": {
        "papermill": {
          "duration": 0.007147,
          "end_time": "2025-07-13T09:20:26.989209",
          "exception": false,
          "start_time": "2025-07-13T09:20:26.982062",
          "status": "completed"
        },
        "tags": [],
        "id": "9fe3a2c1"
      },
      "source": [
        "## 🧹 Data Cleaning & Preprocessing\n",
        "\n",
        "Before training our models, we need to clean the dataset by replacing biologically invalid zero values with more reasonable estimates (like the median). We also standardize the features to improve model convergence.\n"
      ]
    },
    {
      "cell_type": "code",
      "execution_count": 8,
      "id": "2136e25d",
      "metadata": {
        "execution": {
          "iopub.execute_input": "2025-07-13T09:20:27.005697Z",
          "iopub.status.busy": "2025-07-13T09:20:27.005316Z",
          "iopub.status.idle": "2025-07-13T09:20:27.020994Z",
          "shell.execute_reply": "2025-07-13T09:20:27.020018Z"
        },
        "papermill": {
          "duration": 0.025898,
          "end_time": "2025-07-13T09:20:27.022519",
          "exception": false,
          "start_time": "2025-07-13T09:20:26.996621",
          "status": "completed"
        },
        "tags": [],
        "colab": {
          "base_uri": "https://localhost:8080/",
          "height": 241
        },
        "id": "2136e25d",
        "outputId": "1b0f0395-d67d-48c1-e018-0c29f474b1a9"
      },
      "outputs": [
        {
          "output_type": "execute_result",
          "data": {
            "text/plain": [
              "Glucose          0\n",
              "BloodPressure    0\n",
              "SkinThickness    0\n",
              "Insulin          0\n",
              "BMI              0\n",
              "dtype: int64"
            ],
            "text/html": [
              "<div>\n",
              "<style scoped>\n",
              "    .dataframe tbody tr th:only-of-type {\n",
              "        vertical-align: middle;\n",
              "    }\n",
              "\n",
              "    .dataframe tbody tr th {\n",
              "        vertical-align: top;\n",
              "    }\n",
              "\n",
              "    .dataframe thead th {\n",
              "        text-align: right;\n",
              "    }\n",
              "</style>\n",
              "<table border=\"1\" class=\"dataframe\">\n",
              "  <thead>\n",
              "    <tr style=\"text-align: right;\">\n",
              "      <th></th>\n",
              "      <th>0</th>\n",
              "    </tr>\n",
              "  </thead>\n",
              "  <tbody>\n",
              "    <tr>\n",
              "      <th>Glucose</th>\n",
              "      <td>0</td>\n",
              "    </tr>\n",
              "    <tr>\n",
              "      <th>BloodPressure</th>\n",
              "      <td>0</td>\n",
              "    </tr>\n",
              "    <tr>\n",
              "      <th>SkinThickness</th>\n",
              "      <td>0</td>\n",
              "    </tr>\n",
              "    <tr>\n",
              "      <th>Insulin</th>\n",
              "      <td>0</td>\n",
              "    </tr>\n",
              "    <tr>\n",
              "      <th>BMI</th>\n",
              "      <td>0</td>\n",
              "    </tr>\n",
              "  </tbody>\n",
              "</table>\n",
              "</div><br><label><b>dtype:</b> int64</label>"
            ]
          },
          "metadata": {},
          "execution_count": 8
        }
      ],
      "source": [
        "# Columns that should not have zero values\n",
        "cols_to_fix = ['Glucose', 'BloodPressure', 'SkinThickness', 'Insulin', 'BMI']\n",
        "\n",
        "# Replace 0 with the median of the corresponding column\n",
        "for col in cols_to_fix:\n",
        "    median_val = df[col].median()\n",
        "    df[col] = df[col].replace(0, median_val)\n",
        "\n",
        "# Check again\n",
        "(df[cols_to_fix] == 0).sum()\n"
      ]
    },
    {
      "cell_type": "code",
      "execution_count": 9,
      "id": "bda79cb1",
      "metadata": {
        "execution": {
          "iopub.execute_input": "2025-07-13T09:20:27.039424Z",
          "iopub.status.busy": "2025-07-13T09:20:27.039080Z",
          "iopub.status.idle": "2025-07-13T09:20:27.047189Z",
          "shell.execute_reply": "2025-07-13T09:20:27.046429Z"
        },
        "papermill": {
          "duration": 0.018031,
          "end_time": "2025-07-13T09:20:27.048562",
          "exception": false,
          "start_time": "2025-07-13T09:20:27.030531",
          "status": "completed"
        },
        "tags": [],
        "colab": {
          "base_uri": "https://localhost:8080/",
          "height": 241
        },
        "id": "bda79cb1",
        "outputId": "b799c9b6-8ad4-460e-cdc4-5dd08a79c104"
      },
      "outputs": [
        {
          "output_type": "execute_result",
          "data": {
            "text/plain": [
              "0    1\n",
              "1    0\n",
              "2    1\n",
              "3    0\n",
              "4    1\n",
              "Name: Outcome, dtype: int64"
            ],
            "text/html": [
              "<div>\n",
              "<style scoped>\n",
              "    .dataframe tbody tr th:only-of-type {\n",
              "        vertical-align: middle;\n",
              "    }\n",
              "\n",
              "    .dataframe tbody tr th {\n",
              "        vertical-align: top;\n",
              "    }\n",
              "\n",
              "    .dataframe thead th {\n",
              "        text-align: right;\n",
              "    }\n",
              "</style>\n",
              "<table border=\"1\" class=\"dataframe\">\n",
              "  <thead>\n",
              "    <tr style=\"text-align: right;\">\n",
              "      <th></th>\n",
              "      <th>Outcome</th>\n",
              "    </tr>\n",
              "  </thead>\n",
              "  <tbody>\n",
              "    <tr>\n",
              "      <th>0</th>\n",
              "      <td>1</td>\n",
              "    </tr>\n",
              "    <tr>\n",
              "      <th>1</th>\n",
              "      <td>0</td>\n",
              "    </tr>\n",
              "    <tr>\n",
              "      <th>2</th>\n",
              "      <td>1</td>\n",
              "    </tr>\n",
              "    <tr>\n",
              "      <th>3</th>\n",
              "      <td>0</td>\n",
              "    </tr>\n",
              "    <tr>\n",
              "      <th>4</th>\n",
              "      <td>1</td>\n",
              "    </tr>\n",
              "  </tbody>\n",
              "</table>\n",
              "</div><br><label><b>dtype:</b> int64</label>"
            ]
          },
          "metadata": {},
          "execution_count": 9
        }
      ],
      "source": [
        "X = df.drop('Outcome', axis=1)\n",
        "y = df['Outcome']\n",
        "y.head()"
      ]
    },
    {
      "cell_type": "code",
      "execution_count": 10,
      "id": "f3a4b70a",
      "metadata": {
        "execution": {
          "iopub.execute_input": "2025-07-13T09:20:27.066200Z",
          "iopub.status.busy": "2025-07-13T09:20:27.065875Z",
          "iopub.status.idle": "2025-07-13T09:20:27.267089Z",
          "shell.execute_reply": "2025-07-13T09:20:27.266165Z"
        },
        "papermill": {
          "duration": 0.211774,
          "end_time": "2025-07-13T09:20:27.268583",
          "exception": false,
          "start_time": "2025-07-13T09:20:27.056809",
          "status": "completed"
        },
        "tags": [],
        "colab": {
          "base_uri": "https://localhost:8080/",
          "height": 206
        },
        "id": "f3a4b70a",
        "outputId": "fb47c26f-0ab4-4ebe-f191-e35f0685c513"
      },
      "outputs": [
        {
          "output_type": "execute_result",
          "data": {
            "text/plain": [
              "   Pregnancies   Glucose  BloodPressure  SkinThickness   Insulin       BMI  \\\n",
              "0     0.639947  0.866045      -0.031990       0.831114 -0.608201  0.167240   \n",
              "1    -0.844885 -1.205066      -0.528319       0.180566 -0.608201 -0.851551   \n",
              "2     1.233880  2.016662      -0.693761      -0.469981 -0.608201 -1.331838   \n",
              "3    -0.844885 -1.073567      -0.528319      -0.469981 -0.006185 -0.633239   \n",
              "4    -1.141852  0.504422      -2.679076       0.831114  0.695378  1.549885   \n",
              "\n",
              "   DiabetesPedigreeFunction       Age  \n",
              "0                  0.468492  1.425995  \n",
              "1                 -0.365061 -0.190672  \n",
              "2                  0.604397 -0.105584  \n",
              "3                 -0.920763 -1.041549  \n",
              "4                  5.484909 -0.020496  "
            ],
            "text/html": [
              "\n",
              "  <div id=\"df-e23e3922-0234-4a16-a7a6-e2649b66cc3e\" class=\"colab-df-container\">\n",
              "    <div>\n",
              "<style scoped>\n",
              "    .dataframe tbody tr th:only-of-type {\n",
              "        vertical-align: middle;\n",
              "    }\n",
              "\n",
              "    .dataframe tbody tr th {\n",
              "        vertical-align: top;\n",
              "    }\n",
              "\n",
              "    .dataframe thead th {\n",
              "        text-align: right;\n",
              "    }\n",
              "</style>\n",
              "<table border=\"1\" class=\"dataframe\">\n",
              "  <thead>\n",
              "    <tr style=\"text-align: right;\">\n",
              "      <th></th>\n",
              "      <th>Pregnancies</th>\n",
              "      <th>Glucose</th>\n",
              "      <th>BloodPressure</th>\n",
              "      <th>SkinThickness</th>\n",
              "      <th>Insulin</th>\n",
              "      <th>BMI</th>\n",
              "      <th>DiabetesPedigreeFunction</th>\n",
              "      <th>Age</th>\n",
              "    </tr>\n",
              "  </thead>\n",
              "  <tbody>\n",
              "    <tr>\n",
              "      <th>0</th>\n",
              "      <td>0.639947</td>\n",
              "      <td>0.866045</td>\n",
              "      <td>-0.031990</td>\n",
              "      <td>0.831114</td>\n",
              "      <td>-0.608201</td>\n",
              "      <td>0.167240</td>\n",
              "      <td>0.468492</td>\n",
              "      <td>1.425995</td>\n",
              "    </tr>\n",
              "    <tr>\n",
              "      <th>1</th>\n",
              "      <td>-0.844885</td>\n",
              "      <td>-1.205066</td>\n",
              "      <td>-0.528319</td>\n",
              "      <td>0.180566</td>\n",
              "      <td>-0.608201</td>\n",
              "      <td>-0.851551</td>\n",
              "      <td>-0.365061</td>\n",
              "      <td>-0.190672</td>\n",
              "    </tr>\n",
              "    <tr>\n",
              "      <th>2</th>\n",
              "      <td>1.233880</td>\n",
              "      <td>2.016662</td>\n",
              "      <td>-0.693761</td>\n",
              "      <td>-0.469981</td>\n",
              "      <td>-0.608201</td>\n",
              "      <td>-1.331838</td>\n",
              "      <td>0.604397</td>\n",
              "      <td>-0.105584</td>\n",
              "    </tr>\n",
              "    <tr>\n",
              "      <th>3</th>\n",
              "      <td>-0.844885</td>\n",
              "      <td>-1.073567</td>\n",
              "      <td>-0.528319</td>\n",
              "      <td>-0.469981</td>\n",
              "      <td>-0.006185</td>\n",
              "      <td>-0.633239</td>\n",
              "      <td>-0.920763</td>\n",
              "      <td>-1.041549</td>\n",
              "    </tr>\n",
              "    <tr>\n",
              "      <th>4</th>\n",
              "      <td>-1.141852</td>\n",
              "      <td>0.504422</td>\n",
              "      <td>-2.679076</td>\n",
              "      <td>0.831114</td>\n",
              "      <td>0.695378</td>\n",
              "      <td>1.549885</td>\n",
              "      <td>5.484909</td>\n",
              "      <td>-0.020496</td>\n",
              "    </tr>\n",
              "  </tbody>\n",
              "</table>\n",
              "</div>\n",
              "    <div class=\"colab-df-buttons\">\n",
              "\n",
              "  <div class=\"colab-df-container\">\n",
              "    <button class=\"colab-df-convert\" onclick=\"convertToInteractive('df-e23e3922-0234-4a16-a7a6-e2649b66cc3e')\"\n",
              "            title=\"Convert this dataframe to an interactive table.\"\n",
              "            style=\"display:none;\">\n",
              "\n",
              "  <svg xmlns=\"http://www.w3.org/2000/svg\" height=\"24px\" viewBox=\"0 -960 960 960\">\n",
              "    <path d=\"M120-120v-720h720v720H120Zm60-500h600v-160H180v160Zm220 220h160v-160H400v160Zm0 220h160v-160H400v160ZM180-400h160v-160H180v160Zm440 0h160v-160H620v160ZM180-180h160v-160H180v160Zm440 0h160v-160H620v160Z\"/>\n",
              "  </svg>\n",
              "    </button>\n",
              "\n",
              "  <style>\n",
              "    .colab-df-container {\n",
              "      display:flex;\n",
              "      gap: 12px;\n",
              "    }\n",
              "\n",
              "    .colab-df-convert {\n",
              "      background-color: #E8F0FE;\n",
              "      border: none;\n",
              "      border-radius: 50%;\n",
              "      cursor: pointer;\n",
              "      display: none;\n",
              "      fill: #1967D2;\n",
              "      height: 32px;\n",
              "      padding: 0 0 0 0;\n",
              "      width: 32px;\n",
              "    }\n",
              "\n",
              "    .colab-df-convert:hover {\n",
              "      background-color: #E2EBFA;\n",
              "      box-shadow: 0px 1px 2px rgba(60, 64, 67, 0.3), 0px 1px 3px 1px rgba(60, 64, 67, 0.15);\n",
              "      fill: #174EA6;\n",
              "    }\n",
              "\n",
              "    .colab-df-buttons div {\n",
              "      margin-bottom: 4px;\n",
              "    }\n",
              "\n",
              "    [theme=dark] .colab-df-convert {\n",
              "      background-color: #3B4455;\n",
              "      fill: #D2E3FC;\n",
              "    }\n",
              "\n",
              "    [theme=dark] .colab-df-convert:hover {\n",
              "      background-color: #434B5C;\n",
              "      box-shadow: 0px 1px 3px 1px rgba(0, 0, 0, 0.15);\n",
              "      filter: drop-shadow(0px 1px 2px rgba(0, 0, 0, 0.3));\n",
              "      fill: #FFFFFF;\n",
              "    }\n",
              "  </style>\n",
              "\n",
              "    <script>\n",
              "      const buttonEl =\n",
              "        document.querySelector('#df-e23e3922-0234-4a16-a7a6-e2649b66cc3e button.colab-df-convert');\n",
              "      buttonEl.style.display =\n",
              "        google.colab.kernel.accessAllowed ? 'block' : 'none';\n",
              "\n",
              "      async function convertToInteractive(key) {\n",
              "        const element = document.querySelector('#df-e23e3922-0234-4a16-a7a6-e2649b66cc3e');\n",
              "        const dataTable =\n",
              "          await google.colab.kernel.invokeFunction('convertToInteractive',\n",
              "                                                    [key], {});\n",
              "        if (!dataTable) return;\n",
              "\n",
              "        const docLinkHtml = 'Like what you see? Visit the ' +\n",
              "          '<a target=\"_blank\" href=https://colab.research.google.com/notebooks/data_table.ipynb>data table notebook</a>'\n",
              "          + ' to learn more about interactive tables.';\n",
              "        element.innerHTML = '';\n",
              "        dataTable['output_type'] = 'display_data';\n",
              "        await google.colab.output.renderOutput(dataTable, element);\n",
              "        const docLink = document.createElement('div');\n",
              "        docLink.innerHTML = docLinkHtml;\n",
              "        element.appendChild(docLink);\n",
              "      }\n",
              "    </script>\n",
              "  </div>\n",
              "\n",
              "\n",
              "    <div id=\"df-43dcdad0-235c-4b8f-971c-9eb70e04b8b9\">\n",
              "      <button class=\"colab-df-quickchart\" onclick=\"quickchart('df-43dcdad0-235c-4b8f-971c-9eb70e04b8b9')\"\n",
              "                title=\"Suggest charts\"\n",
              "                style=\"display:none;\">\n",
              "\n",
              "<svg xmlns=\"http://www.w3.org/2000/svg\" height=\"24px\"viewBox=\"0 0 24 24\"\n",
              "     width=\"24px\">\n",
              "    <g>\n",
              "        <path d=\"M19 3H5c-1.1 0-2 .9-2 2v14c0 1.1.9 2 2 2h14c1.1 0 2-.9 2-2V5c0-1.1-.9-2-2-2zM9 17H7v-7h2v7zm4 0h-2V7h2v10zm4 0h-2v-4h2v4z\"/>\n",
              "    </g>\n",
              "</svg>\n",
              "      </button>\n",
              "\n",
              "<style>\n",
              "  .colab-df-quickchart {\n",
              "      --bg-color: #E8F0FE;\n",
              "      --fill-color: #1967D2;\n",
              "      --hover-bg-color: #E2EBFA;\n",
              "      --hover-fill-color: #174EA6;\n",
              "      --disabled-fill-color: #AAA;\n",
              "      --disabled-bg-color: #DDD;\n",
              "  }\n",
              "\n",
              "  [theme=dark] .colab-df-quickchart {\n",
              "      --bg-color: #3B4455;\n",
              "      --fill-color: #D2E3FC;\n",
              "      --hover-bg-color: #434B5C;\n",
              "      --hover-fill-color: #FFFFFF;\n",
              "      --disabled-bg-color: #3B4455;\n",
              "      --disabled-fill-color: #666;\n",
              "  }\n",
              "\n",
              "  .colab-df-quickchart {\n",
              "    background-color: var(--bg-color);\n",
              "    border: none;\n",
              "    border-radius: 50%;\n",
              "    cursor: pointer;\n",
              "    display: none;\n",
              "    fill: var(--fill-color);\n",
              "    height: 32px;\n",
              "    padding: 0;\n",
              "    width: 32px;\n",
              "  }\n",
              "\n",
              "  .colab-df-quickchart:hover {\n",
              "    background-color: var(--hover-bg-color);\n",
              "    box-shadow: 0 1px 2px rgba(60, 64, 67, 0.3), 0 1px 3px 1px rgba(60, 64, 67, 0.15);\n",
              "    fill: var(--button-hover-fill-color);\n",
              "  }\n",
              "\n",
              "  .colab-df-quickchart-complete:disabled,\n",
              "  .colab-df-quickchart-complete:disabled:hover {\n",
              "    background-color: var(--disabled-bg-color);\n",
              "    fill: var(--disabled-fill-color);\n",
              "    box-shadow: none;\n",
              "  }\n",
              "\n",
              "  .colab-df-spinner {\n",
              "    border: 2px solid var(--fill-color);\n",
              "    border-color: transparent;\n",
              "    border-bottom-color: var(--fill-color);\n",
              "    animation:\n",
              "      spin 1s steps(1) infinite;\n",
              "  }\n",
              "\n",
              "  @keyframes spin {\n",
              "    0% {\n",
              "      border-color: transparent;\n",
              "      border-bottom-color: var(--fill-color);\n",
              "      border-left-color: var(--fill-color);\n",
              "    }\n",
              "    20% {\n",
              "      border-color: transparent;\n",
              "      border-left-color: var(--fill-color);\n",
              "      border-top-color: var(--fill-color);\n",
              "    }\n",
              "    30% {\n",
              "      border-color: transparent;\n",
              "      border-left-color: var(--fill-color);\n",
              "      border-top-color: var(--fill-color);\n",
              "      border-right-color: var(--fill-color);\n",
              "    }\n",
              "    40% {\n",
              "      border-color: transparent;\n",
              "      border-right-color: var(--fill-color);\n",
              "      border-top-color: var(--fill-color);\n",
              "    }\n",
              "    60% {\n",
              "      border-color: transparent;\n",
              "      border-right-color: var(--fill-color);\n",
              "    }\n",
              "    80% {\n",
              "      border-color: transparent;\n",
              "      border-right-color: var(--fill-color);\n",
              "      border-bottom-color: var(--fill-color);\n",
              "    }\n",
              "    90% {\n",
              "      border-color: transparent;\n",
              "      border-bottom-color: var(--fill-color);\n",
              "    }\n",
              "  }\n",
              "</style>\n",
              "\n",
              "      <script>\n",
              "        async function quickchart(key) {\n",
              "          const quickchartButtonEl =\n",
              "            document.querySelector('#' + key + ' button');\n",
              "          quickchartButtonEl.disabled = true;  // To prevent multiple clicks.\n",
              "          quickchartButtonEl.classList.add('colab-df-spinner');\n",
              "          try {\n",
              "            const charts = await google.colab.kernel.invokeFunction(\n",
              "                'suggestCharts', [key], {});\n",
              "          } catch (error) {\n",
              "            console.error('Error during call to suggestCharts:', error);\n",
              "          }\n",
              "          quickchartButtonEl.classList.remove('colab-df-spinner');\n",
              "          quickchartButtonEl.classList.add('colab-df-quickchart-complete');\n",
              "        }\n",
              "        (() => {\n",
              "          let quickchartButtonEl =\n",
              "            document.querySelector('#df-43dcdad0-235c-4b8f-971c-9eb70e04b8b9 button');\n",
              "          quickchartButtonEl.style.display =\n",
              "            google.colab.kernel.accessAllowed ? 'block' : 'none';\n",
              "        })();\n",
              "      </script>\n",
              "    </div>\n",
              "\n",
              "    </div>\n",
              "  </div>\n"
            ],
            "application/vnd.google.colaboratory.intrinsic+json": {
              "type": "dataframe",
              "variable_name": "X_scaled_df",
              "summary": "{\n  \"name\": \"X_scaled_df\",\n  \"rows\": 768,\n  \"fields\": [\n    {\n      \"column\": \"Pregnancies\",\n      \"properties\": {\n        \"dtype\": \"number\",\n        \"std\": 1.0006516781401988,\n        \"min\": -1.1418515161634994,\n        \"max\": 3.906578350084603,\n        \"num_unique_values\": 17,\n        \"samples\": [\n          0.6399472601593604,\n          -0.8448850534430228,\n          -0.2509521280020695\n        ],\n        \"semantic_type\": \"\",\n        \"description\": \"\"\n      }\n    },\n    {\n      \"column\": \"Glucose\",\n      \"properties\": {\n        \"dtype\": \"number\",\n        \"std\": 1.0006516781401993,\n        \"min\": -2.5529314408155828,\n        \"max\": 2.542658074856566,\n        \"num_unique_values\": 135,\n        \"samples\": [\n          0.43867272645000155,\n          0.40579795538114893,\n          -1.1721910559237745\n        ],\n        \"semantic_type\": \"\",\n        \"description\": \"\"\n      }\n    },\n    {\n      \"column\": \"BloodPressure\",\n      \"properties\": {\n        \"dtype\": \"number\",\n        \"std\": 1.0006516781402004,\n        \"min\": -4.002619270841412,\n        \"max\": 4.104082292642026,\n        \"num_unique_values\": 46,\n        \"samples\": [\n          2.4496534021352017,\n          1.0433888452044013,\n          1.1261102897297426\n        ],\n        \"semantic_type\": \"\",\n        \"description\": \"\"\n      }\n    },\n    {\n      \"column\": \"SkinThickness\",\n      \"properties\": {\n        \"dtype\": \"number\",\n        \"std\": 1.000651678140201,\n        \"min\": -2.2047735968739515,\n        \"max\": 7.77028456158964,\n        \"num_unique_values\": 50,\n        \"samples\": [\n          0.9395382139460937,\n          -1.6626508708704955,\n          0.07214185234056394\n        ],\n        \"semantic_type\": \"\",\n        \"description\": \"\"\n      }\n    },\n    {\n      \"column\": \"Insulin\",\n      \"properties\": {\n        \"dtype\": \"number\",\n        \"std\": 1.0006516781401982,\n        \"min\": -0.7646304067112712,\n        \"max\": 7.123206062812004,\n        \"num_unique_values\": 186,\n        \"samples\": [\n          -0.40436864488208313,\n          -0.5086549443589533,\n          0.8375863761606442\n        ],\n        \"semantic_type\": \"\",\n        \"description\": \"\"\n      }\n    },\n    {\n      \"column\": \"BMI\",\n      \"properties\": {\n        \"dtype\": \"number\",\n        \"std\": 1.0006516781401997,\n        \"min\": -2.0741001266018455,\n        \"max\": 5.042882986188604,\n        \"num_unique_values\": 247,\n        \"samples\": [\n          -1.8266794457890898,\n          -0.21116794165874184,\n          0.8221772546768862\n        ],\n        \"semantic_type\": \"\",\n        \"description\": \"\"\n      }\n    },\n    {\n      \"column\": \"DiabetesPedigreeFunction\",\n      \"properties\": {\n        \"dtype\": \"number\",\n        \"std\": 1.0006516781401993,\n        \"min\": -1.1895531764897842,\n        \"max\": 5.88356476587794,\n        \"num_unique_values\": 517,\n        \"samples\": [\n          3.802702997179665,\n          -0.13855187676990025,\n          -1.008346055848425\n        ],\n        \"semantic_type\": \"\",\n        \"description\": \"\"\n      }\n    },\n    {\n      \"column\": \"Age\",\n      \"properties\": {\n        \"dtype\": \"number\",\n        \"std\": 1.0006516781402002,\n        \"min\": -1.0415494364835023,\n        \"max\": 4.063715751598595,\n        \"num_unique_values\": 52,\n        \"samples\": [\n          2.276872935769861,\n          1.1707321450187398,\n          3.2979259733862807\n        ],\n        \"semantic_type\": \"\",\n        \"description\": \"\"\n      }\n    }\n  ]\n}"
            }
          },
          "metadata": {},
          "execution_count": 10
        }
      ],
      "source": [
        "from sklearn.preprocessing import StandardScaler\n",
        "\n",
        "scaler = StandardScaler()\n",
        "X_scaled = scaler.fit_transform(X)\n",
        "\n",
        "# Convert the result back to a DataFrame (re-attach column names)\n",
        "X_scaled_df = pd.DataFrame(X_scaled, columns=X.columns)\n",
        "\n",
        "X_scaled_df.head()\n"
      ]
    },
    {
      "cell_type": "code",
      "execution_count": 11,
      "id": "f4b06f28",
      "metadata": {
        "execution": {
          "iopub.execute_input": "2025-07-13T09:20:27.286177Z",
          "iopub.status.busy": "2025-07-13T09:20:27.285834Z",
          "iopub.status.idle": "2025-07-13T09:20:27.409204Z",
          "shell.execute_reply": "2025-07-13T09:20:27.408440Z"
        },
        "papermill": {
          "duration": 0.133736,
          "end_time": "2025-07-13T09:20:27.410515",
          "exception": false,
          "start_time": "2025-07-13T09:20:27.276779",
          "status": "completed"
        },
        "tags": [],
        "colab": {
          "base_uri": "https://localhost:8080/",
          "height": 241
        },
        "id": "f4b06f28",
        "outputId": "4cf02b40-53fc-47db-e9e5-b6b7df5e7dca"
      },
      "outputs": [
        {
          "output_type": "execute_result",
          "data": {
            "text/plain": [
              "353    0\n",
              "711    0\n",
              "373    0\n",
              "46     0\n",
              "682    0\n",
              "Name: Outcome, dtype: int64"
            ],
            "text/html": [
              "<div>\n",
              "<style scoped>\n",
              "    .dataframe tbody tr th:only-of-type {\n",
              "        vertical-align: middle;\n",
              "    }\n",
              "\n",
              "    .dataframe tbody tr th {\n",
              "        vertical-align: top;\n",
              "    }\n",
              "\n",
              "    .dataframe thead th {\n",
              "        text-align: right;\n",
              "    }\n",
              "</style>\n",
              "<table border=\"1\" class=\"dataframe\">\n",
              "  <thead>\n",
              "    <tr style=\"text-align: right;\">\n",
              "      <th></th>\n",
              "      <th>Outcome</th>\n",
              "    </tr>\n",
              "  </thead>\n",
              "  <tbody>\n",
              "    <tr>\n",
              "      <th>353</th>\n",
              "      <td>0</td>\n",
              "    </tr>\n",
              "    <tr>\n",
              "      <th>711</th>\n",
              "      <td>0</td>\n",
              "    </tr>\n",
              "    <tr>\n",
              "      <th>373</th>\n",
              "      <td>0</td>\n",
              "    </tr>\n",
              "    <tr>\n",
              "      <th>46</th>\n",
              "      <td>0</td>\n",
              "    </tr>\n",
              "    <tr>\n",
              "      <th>682</th>\n",
              "      <td>0</td>\n",
              "    </tr>\n",
              "  </tbody>\n",
              "</table>\n",
              "</div><br><label><b>dtype:</b> int64</label>"
            ]
          },
          "metadata": {},
          "execution_count": 11
        }
      ],
      "source": [
        "from sklearn.model_selection import train_test_split\n",
        "\n",
        "X_train, X_test, y_train, y_test = train_test_split(\n",
        "    X_scaled_df, y, test_size=0.2, random_state=42, stratify=y\n",
        ")\n",
        "\n",
        "y_train.head()"
      ]
    },
    {
      "cell_type": "markdown",
      "id": "b29d40d6",
      "metadata": {
        "papermill": {
          "duration": 0.008335,
          "end_time": "2025-07-13T09:20:27.427510",
          "exception": false,
          "start_time": "2025-07-13T09:20:27.419175",
          "status": "completed"
        },
        "tags": [],
        "id": "b29d40d6"
      },
      "source": [
        "## 🤖 Model Training & Evaluation\n",
        "\n",
        "We will train both basic and ensemble models to predict diabetes. Evaluation will be done using accuracy and classification metrics on the test set.\n"
      ]
    },
    {
      "cell_type": "code",
      "execution_count": 12,
      "id": "55d9f00b",
      "metadata": {
        "execution": {
          "iopub.execute_input": "2025-07-13T09:20:27.444968Z",
          "iopub.status.busy": "2025-07-13T09:20:27.444669Z",
          "iopub.status.idle": "2025-07-13T09:20:27.449979Z",
          "shell.execute_reply": "2025-07-13T09:20:27.449145Z"
        },
        "papermill": {
          "duration": 0.015645,
          "end_time": "2025-07-13T09:20:27.451347",
          "exception": false,
          "start_time": "2025-07-13T09:20:27.435702",
          "status": "completed"
        },
        "tags": [],
        "id": "55d9f00b"
      },
      "outputs": [],
      "source": [
        "from sklearn.metrics import accuracy_score, confusion_matrix, classification_report\n",
        "\n",
        "def evaluate_model(model, X_test, y_test):\n",
        "    y_pred = model.predict(X_test)\n",
        "    acc = accuracy_score(y_test, y_pred)\n",
        "    print(\"Accuracy:\", acc)\n",
        "    print(\"\\nClassification Report:\\n\", classification_report(y_test, y_pred))\n",
        "    print(\"Confusion Matrix:\\n\", confusion_matrix(y_test, y_pred))\n"
      ]
    },
    {
      "cell_type": "code",
      "execution_count": 13,
      "id": "dba5aae6",
      "metadata": {
        "execution": {
          "iopub.execute_input": "2025-07-13T09:20:27.469419Z",
          "iopub.status.busy": "2025-07-13T09:20:27.468687Z",
          "iopub.status.idle": "2025-07-13T09:20:27.605310Z",
          "shell.execute_reply": "2025-07-13T09:20:27.604416Z"
        },
        "papermill": {
          "duration": 0.147448,
          "end_time": "2025-07-13T09:20:27.607248",
          "exception": false,
          "start_time": "2025-07-13T09:20:27.459800",
          "status": "completed"
        },
        "tags": [],
        "colab": {
          "base_uri": "https://localhost:8080/"
        },
        "id": "dba5aae6",
        "outputId": "a9bdce9e-b011-422b-dbdf-bb5bf9194a2e"
      },
      "outputs": [
        {
          "output_type": "stream",
          "name": "stdout",
          "text": [
            "Logistic Regression:\n",
            "Accuracy: 0.7077922077922078\n",
            "\n",
            "Classification Report:\n",
            "               precision    recall  f1-score   support\n",
            "\n",
            "           0       0.75      0.82      0.78       100\n",
            "           1       0.60      0.50      0.55        54\n",
            "\n",
            "    accuracy                           0.71       154\n",
            "   macro avg       0.68      0.66      0.67       154\n",
            "weighted avg       0.70      0.71      0.70       154\n",
            "\n",
            "Confusion Matrix:\n",
            " [[82 18]\n",
            " [27 27]]\n"
          ]
        }
      ],
      "source": [
        "from sklearn.linear_model import LogisticRegression\n",
        "\n",
        "lr = LogisticRegression()\n",
        "lr.fit(X_train, y_train)\n",
        "\n",
        "print(\"Logistic Regression:\")\n",
        "evaluate_model(lr, X_test, y_test)\n"
      ]
    },
    {
      "cell_type": "code",
      "execution_count": 14,
      "id": "a5b8c261",
      "metadata": {
        "execution": {
          "iopub.execute_input": "2025-07-13T09:20:27.635199Z",
          "iopub.status.busy": "2025-07-13T09:20:27.634818Z",
          "iopub.status.idle": "2025-07-13T09:20:27.851043Z",
          "shell.execute_reply": "2025-07-13T09:20:27.850053Z"
        },
        "papermill": {
          "duration": 0.232623,
          "end_time": "2025-07-13T09:20:27.853100",
          "exception": false,
          "start_time": "2025-07-13T09:20:27.620477",
          "status": "completed"
        },
        "tags": [],
        "colab": {
          "base_uri": "https://localhost:8080/"
        },
        "id": "a5b8c261",
        "outputId": "e49321f8-77b9-49f7-9f74-71b979d574df"
      },
      "outputs": [
        {
          "output_type": "stream",
          "name": "stdout",
          "text": [
            "Decision Tree:\n",
            "Accuracy: 0.6688311688311688\n",
            "\n",
            "Classification Report:\n",
            "               precision    recall  f1-score   support\n",
            "\n",
            "           0       0.72      0.79      0.76       100\n",
            "           1       0.53      0.44      0.48        54\n",
            "\n",
            "    accuracy                           0.67       154\n",
            "   macro avg       0.63      0.62      0.62       154\n",
            "weighted avg       0.66      0.67      0.66       154\n",
            "\n",
            "Confusion Matrix:\n",
            " [[79 21]\n",
            " [30 24]]\n"
          ]
        }
      ],
      "source": [
        "from sklearn.tree import DecisionTreeClassifier\n",
        "\n",
        "dt = DecisionTreeClassifier(random_state=42)\n",
        "dt.fit(X_train, y_train)\n",
        "\n",
        "print(\"Decision Tree:\")\n",
        "evaluate_model(dt, X_test, y_test)\n"
      ]
    },
    {
      "cell_type": "code",
      "execution_count": 15,
      "id": "72f232b6",
      "metadata": {
        "execution": {
          "iopub.execute_input": "2025-07-13T09:20:27.871429Z",
          "iopub.status.busy": "2025-07-13T09:20:27.871129Z",
          "iopub.status.idle": "2025-07-13T09:20:27.899279Z",
          "shell.execute_reply": "2025-07-13T09:20:27.898168Z"
        },
        "papermill": {
          "duration": 0.039045,
          "end_time": "2025-07-13T09:20:27.900865",
          "exception": false,
          "start_time": "2025-07-13T09:20:27.861820",
          "status": "completed"
        },
        "tags": [],
        "colab": {
          "base_uri": "https://localhost:8080/"
        },
        "id": "72f232b6",
        "outputId": "0ea40c8b-b61c-45a9-8fb0-beffdab327a4"
      },
      "outputs": [
        {
          "output_type": "stream",
          "name": "stdout",
          "text": [
            "K-Nearest Neighbors:\n",
            "Accuracy: 0.7077922077922078\n",
            "\n",
            "Classification Report:\n",
            "               precision    recall  f1-score   support\n",
            "\n",
            "           0       0.76      0.81      0.78       100\n",
            "           1       0.60      0.52      0.55        54\n",
            "\n",
            "    accuracy                           0.71       154\n",
            "   macro avg       0.68      0.66      0.67       154\n",
            "weighted avg       0.70      0.71      0.70       154\n",
            "\n",
            "Confusion Matrix:\n",
            " [[81 19]\n",
            " [26 28]]\n"
          ]
        }
      ],
      "source": [
        "from sklearn.neighbors import KNeighborsClassifier\n",
        "\n",
        "knn = KNeighborsClassifier(n_neighbors=5)\n",
        "knn.fit(X_train, y_train)\n",
        "\n",
        "print(\"K-Nearest Neighbors:\")\n",
        "evaluate_model(knn, X_test, y_test)\n"
      ]
    },
    {
      "cell_type": "code",
      "execution_count": 16,
      "id": "eb1c9da2",
      "metadata": {
        "execution": {
          "iopub.execute_input": "2025-07-13T09:20:27.918899Z",
          "iopub.status.busy": "2025-07-13T09:20:27.918547Z",
          "iopub.status.idle": "2025-07-13T09:20:28.242209Z",
          "shell.execute_reply": "2025-07-13T09:20:28.241032Z"
        },
        "papermill": {
          "duration": 0.334626,
          "end_time": "2025-07-13T09:20:28.243999",
          "exception": false,
          "start_time": "2025-07-13T09:20:27.909373",
          "status": "completed"
        },
        "tags": [],
        "colab": {
          "base_uri": "https://localhost:8080/"
        },
        "id": "eb1c9da2",
        "outputId": "6877acfb-aec1-458d-ab4d-fa390853bf9d"
      },
      "outputs": [
        {
          "output_type": "stream",
          "name": "stdout",
          "text": [
            "Random Forest:\n",
            "Accuracy: 0.7597402597402597\n",
            "\n",
            "Classification Report:\n",
            "               precision    recall  f1-score   support\n",
            "\n",
            "           0       0.79      0.85      0.82       100\n",
            "           1       0.68      0.59      0.63        54\n",
            "\n",
            "    accuracy                           0.76       154\n",
            "   macro avg       0.74      0.72      0.73       154\n",
            "weighted avg       0.75      0.76      0.76       154\n",
            "\n",
            "Confusion Matrix:\n",
            " [[85 15]\n",
            " [22 32]]\n"
          ]
        }
      ],
      "source": [
        "from sklearn.ensemble import RandomForestClassifier\n",
        "\n",
        "rf = RandomForestClassifier(random_state=42)\n",
        "rf.fit(X_train, y_train)\n",
        "\n",
        "print(\"Random Forest:\")\n",
        "evaluate_model(rf, X_test, y_test)\n"
      ]
    },
    {
      "cell_type": "code",
      "execution_count": 17,
      "id": "971e7d90",
      "metadata": {
        "execution": {
          "iopub.execute_input": "2025-07-13T09:20:28.262015Z",
          "iopub.status.busy": "2025-07-13T09:20:28.261703Z",
          "iopub.status.idle": "2025-07-13T09:20:28.384412Z",
          "shell.execute_reply": "2025-07-13T09:20:28.383208Z"
        },
        "papermill": {
          "duration": 0.133521,
          "end_time": "2025-07-13T09:20:28.386134",
          "exception": false,
          "start_time": "2025-07-13T09:20:28.252613",
          "status": "completed"
        },
        "tags": [],
        "colab": {
          "base_uri": "https://localhost:8080/"
        },
        "id": "971e7d90",
        "outputId": "e762c788-eace-41df-e613-f89e36e30b90"
      },
      "outputs": [
        {
          "output_type": "stream",
          "name": "stdout",
          "text": [
            "AdaBoost:\n",
            "Accuracy: 0.7467532467532467\n",
            "\n",
            "Classification Report:\n",
            "               precision    recall  f1-score   support\n",
            "\n",
            "           0       0.79      0.84      0.81       100\n",
            "           1       0.66      0.57      0.61        54\n",
            "\n",
            "    accuracy                           0.75       154\n",
            "   macro avg       0.72      0.71      0.71       154\n",
            "weighted avg       0.74      0.75      0.74       154\n",
            "\n",
            "Confusion Matrix:\n",
            " [[84 16]\n",
            " [23 31]]\n"
          ]
        }
      ],
      "source": [
        "from sklearn.ensemble import AdaBoostClassifier\n",
        "ab = AdaBoostClassifier(random_state=42)\n",
        "ab.fit(X_train, y_train)\n",
        "\n",
        "print(\"AdaBoost:\")\n",
        "evaluate_model(ab, X_test, y_test)"
      ]
    },
    {
      "cell_type": "code",
      "execution_count": 18,
      "id": "385291bb",
      "metadata": {
        "execution": {
          "iopub.execute_input": "2025-07-13T09:20:28.405163Z",
          "iopub.status.busy": "2025-07-13T09:20:28.404459Z",
          "iopub.status.idle": "2025-07-13T09:20:28.577479Z",
          "shell.execute_reply": "2025-07-13T09:20:28.576388Z"
        },
        "papermill": {
          "duration": 0.183867,
          "end_time": "2025-07-13T09:20:28.578956",
          "exception": false,
          "start_time": "2025-07-13T09:20:28.395089",
          "status": "completed"
        },
        "tags": [],
        "colab": {
          "base_uri": "https://localhost:8080/"
        },
        "id": "385291bb",
        "outputId": "b8a3da59-a2a4-4a35-dacc-48e2c266079c"
      },
      "outputs": [
        {
          "output_type": "stream",
          "name": "stdout",
          "text": [
            "Gradient Boosting:\n",
            "Accuracy: 0.7597402597402597\n",
            "\n",
            "Classification Report:\n",
            "               precision    recall  f1-score   support\n",
            "\n",
            "           0       0.79      0.85      0.82       100\n",
            "           1       0.68      0.59      0.63        54\n",
            "\n",
            "    accuracy                           0.76       154\n",
            "   macro avg       0.74      0.72      0.73       154\n",
            "weighted avg       0.75      0.76      0.76       154\n",
            "\n",
            "Confusion Matrix:\n",
            " [[85 15]\n",
            " [22 32]]\n"
          ]
        }
      ],
      "source": [
        "from sklearn.ensemble import GradientBoostingClassifier\n",
        "\n",
        "gb = GradientBoostingClassifier(random_state=42)\n",
        "gb.fit(X_train, y_train)\n",
        "\n",
        "print(\"Gradient Boosting:\")\n",
        "evaluate_model(gb, X_test, y_test)\n"
      ]
    },
    {
      "cell_type": "code",
      "execution_count": null,
      "id": "cad7781c",
      "metadata": {
        "execution": {
          "iopub.execute_input": "2025-07-13T09:20:28.597837Z",
          "iopub.status.busy": "2025-07-13T09:20:28.597451Z",
          "iopub.status.idle": "2025-07-13T09:20:29.144120Z",
          "shell.execute_reply": "2025-07-13T09:20:29.142386Z"
        },
        "papermill": {
          "duration": 0.557926,
          "end_time": "2025-07-13T09:20:29.145877",
          "exception": false,
          "start_time": "2025-07-13T09:20:28.587951",
          "status": "completed"
        },
        "tags": [],
        "id": "cad7781c",
        "outputId": "2ec7b971-65d9-4182-b9f9-f31cbe205629"
      },
      "outputs": [
        {
          "name": "stdout",
          "output_type": "stream",
          "text": [
            "XGBoost:\n",
            "Accuracy: 0.7727272727272727\n",
            "\n",
            "Classification Report:\n",
            "               precision    recall  f1-score   support\n",
            "\n",
            "           0       0.80      0.86      0.83       100\n",
            "           1       0.70      0.61      0.65        54\n",
            "\n",
            "    accuracy                           0.77       154\n",
            "   macro avg       0.75      0.74      0.74       154\n",
            "weighted avg       0.77      0.77      0.77       154\n",
            "\n",
            "Confusion Matrix:\n",
            " [[86 14]\n",
            " [21 33]]\n"
          ]
        }
      ],
      "source": [
        "from xgboost import XGBClassifier\n",
        "\n",
        "xgb = XGBClassifier(use_label_encoder=False, eval_metric='logloss', random_state=42)\n",
        "xgb.fit(X_train, y_train)\n",
        "\n",
        "print(\"XGBoost:\")\n",
        "evaluate_model(xgb, X_test, y_test)\n"
      ]
    },
    {
      "cell_type": "code",
      "execution_count": 19,
      "id": "249404b5",
      "metadata": {
        "execution": {
          "iopub.execute_input": "2025-07-13T09:20:29.165131Z",
          "iopub.status.busy": "2025-07-13T09:20:29.164821Z",
          "iopub.status.idle": "2025-07-13T09:20:29.621043Z",
          "shell.execute_reply": "2025-07-13T09:20:29.619964Z"
        },
        "papermill": {
          "duration": 0.467316,
          "end_time": "2025-07-13T09:20:29.622591",
          "exception": false,
          "start_time": "2025-07-13T09:20:29.155275",
          "status": "completed"
        },
        "tags": [],
        "colab": {
          "base_uri": "https://localhost:8080/"
        },
        "id": "249404b5",
        "outputId": "199f9d83-cdbb-411c-b599-28989f672d76"
      },
      "outputs": [
        {
          "output_type": "stream",
          "name": "stdout",
          "text": [
            "Voting Classifier:\n",
            "Accuracy: 0.7402597402597403\n",
            "\n",
            "Classification Report:\n",
            "               precision    recall  f1-score   support\n",
            "\n",
            "           0       0.78      0.83      0.81       100\n",
            "           1       0.65      0.57      0.61        54\n",
            "\n",
            "    accuracy                           0.74       154\n",
            "   macro avg       0.71      0.70      0.71       154\n",
            "weighted avg       0.73      0.74      0.74       154\n",
            "\n",
            "Confusion Matrix:\n",
            " [[83 17]\n",
            " [23 31]]\n"
          ]
        }
      ],
      "source": [
        "from sklearn.ensemble import VotingClassifier\n",
        "\n",
        "voting = VotingClassifier(\n",
        "    estimators=[\n",
        "        ('lr', LogisticRegression()),\n",
        "        ('rf', RandomForestClassifier()),\n",
        "        ('gb', GradientBoostingClassifier())\n",
        "    ],\n",
        "    voting='soft'\n",
        ")\n",
        "\n",
        "voting.fit(X_train, y_train)\n",
        "\n",
        "print(\"Voting Classifier:\")\n",
        "evaluate_model(voting, X_test, y_test)\n"
      ]
    },
    {
      "cell_type": "code",
      "source": [],
      "metadata": {
        "id": "8hVbC_RdC8Hv"
      },
      "id": "8hVbC_RdC8Hv",
      "execution_count": null,
      "outputs": []
    }
  ],
  "metadata": {
    "kaggle": {
      "accelerator": "none",
      "dataSources": [
        {
          "datasetId": 228,
          "sourceId": 482,
          "sourceType": "datasetVersion"
        }
      ],
      "dockerImageVersionId": 31089,
      "isGpuEnabled": false,
      "isInternetEnabled": false,
      "language": "python",
      "sourceType": "notebook"
    },
    "kernelspec": {
      "display_name": "Python 3",
      "language": "python",
      "name": "python3"
    },
    "language_info": {
      "codemirror_mode": {
        "name": "ipython",
        "version": 3
      },
      "file_extension": ".py",
      "mimetype": "text/x-python",
      "name": "python",
      "nbconvert_exporter": "python",
      "pygments_lexer": "ipython3",
      "version": "3.11.13"
    },
    "papermill": {
      "default_parameters": {},
      "duration": 13.943639,
      "end_time": "2025-07-13T09:20:30.352741",
      "environment_variables": {},
      "exception": null,
      "input_path": "__notebook__.ipynb",
      "output_path": "__notebook__.ipynb",
      "parameters": {},
      "start_time": "2025-07-13T09:20:16.409102",
      "version": "2.6.0"
    },
    "colab": {
      "provenance": []
    }
  },
  "nbformat": 4,
  "nbformat_minor": 5
}