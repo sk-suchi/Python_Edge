{
 "cells": [
  {
   "cell_type": "code",
   "execution_count": 1,
   "id": "7cedf57c",
   "metadata": {
    "execution": {
     "iopub.execute_input": "2025-07-13T09:20:22.405182Z",
     "iopub.status.busy": "2025-07-13T09:20:22.404868Z",
     "iopub.status.idle": "2025-07-13T09:20:24.305666Z",
     "shell.execute_reply": "2025-07-13T09:20:24.304533Z"
    },
    "papermill": {
     "duration": 1.908629,
     "end_time": "2025-07-13T09:20:24.307262",
     "exception": false,
     "start_time": "2025-07-13T09:20:22.398633",
     "status": "completed"
    },
    "tags": []
   },
   "outputs": [
    {
     "name": "stdout",
     "output_type": "stream",
     "text": [
      "/kaggle/input/pima-indians-diabetes-database/diabetes.csv\n"
     ]
    }
   ],
   "source": [
    "import numpy as np # linear algebra\n",
    "import pandas as pd # data processing, CSV file I/O (e.g. pd.read_csv)\n",
    "\n",
    "# Input data files are available in the read-only \"../input/\" directory\n",
    "# For example, running this (by clicking run or pressing Shift+Enter) will list all files under the input directory\n",
    "\n",
    "import os\n",
    "for dirname, _, filenames in os.walk('/kaggle/input'):\n",
    "    for filename in filenames:\n",
    "        print(os.path.join(dirname, filename))\n",
    "\n",
    "# You can write up to 20GB to the current directory (/kaggle/working/) that gets preserved as output when you create a version using \"Save & Run All\" \n",
    "# You can also write temporary files to /kaggle/temp/, but they won't be saved outside of the current session"
   ]
  },
  {
   "cell_type": "markdown",
   "id": "2cdb7813",
   "metadata": {
    "papermill": {
     "duration": 0.004825,
     "end_time": "2025-07-13T09:20:24.316677",
     "exception": false,
     "start_time": "2025-07-13T09:20:24.311852",
     "status": "completed"
    },
    "tags": []
   },
   "source": [
    "#  🩺 Pima Indians Diabetes Prediction \n",
    "\n",
    "In this notebook, we will analyze and model the Pima Indians Diabetes dataset using classical supervised learning techniques and ensemble models like Random Forest, AdaBoost, and Gradient Boosting.\n",
    "\n",
    "We aim to:\n",
    "- Explore the dataset and fix any data quality issues\n",
    "- Train baseline and ensemble models\n",
    "- Compare performance using accuracy, classification report, and ROC AUC\n"
   ]
  },
  {
   "cell_type": "code",
   "execution_count": 2,
   "id": "adab6044",
   "metadata": {
    "execution": {
     "iopub.execute_input": "2025-07-13T09:20:24.327915Z",
     "iopub.status.busy": "2025-07-13T09:20:24.327048Z",
     "iopub.status.idle": "2025-07-13T09:20:24.368520Z",
     "shell.execute_reply": "2025-07-13T09:20:24.367653Z"
    },
    "papermill": {
     "duration": 0.048815,
     "end_time": "2025-07-13T09:20:24.370114",
     "exception": false,
     "start_time": "2025-07-13T09:20:24.321299",
     "status": "completed"
    },
    "tags": []
   },
   "outputs": [
    {
     "data": {
      "text/html": [
       "<div>\n",
       "<style scoped>\n",
       "    .dataframe tbody tr th:only-of-type {\n",
       "        vertical-align: middle;\n",
       "    }\n",
       "\n",
       "    .dataframe tbody tr th {\n",
       "        vertical-align: top;\n",
       "    }\n",
       "\n",
       "    .dataframe thead th {\n",
       "        text-align: right;\n",
       "    }\n",
       "</style>\n",
       "<table border=\"1\" class=\"dataframe\">\n",
       "  <thead>\n",
       "    <tr style=\"text-align: right;\">\n",
       "      <th></th>\n",
       "      <th>Pregnancies</th>\n",
       "      <th>Glucose</th>\n",
       "      <th>BloodPressure</th>\n",
       "      <th>SkinThickness</th>\n",
       "      <th>Insulin</th>\n",
       "      <th>BMI</th>\n",
       "      <th>DiabetesPedigreeFunction</th>\n",
       "      <th>Age</th>\n",
       "      <th>Outcome</th>\n",
       "    </tr>\n",
       "  </thead>\n",
       "  <tbody>\n",
       "    <tr>\n",
       "      <th>0</th>\n",
       "      <td>6</td>\n",
       "      <td>148</td>\n",
       "      <td>72</td>\n",
       "      <td>35</td>\n",
       "      <td>0</td>\n",
       "      <td>33.6</td>\n",
       "      <td>0.627</td>\n",
       "      <td>50</td>\n",
       "      <td>1</td>\n",
       "    </tr>\n",
       "    <tr>\n",
       "      <th>1</th>\n",
       "      <td>1</td>\n",
       "      <td>85</td>\n",
       "      <td>66</td>\n",
       "      <td>29</td>\n",
       "      <td>0</td>\n",
       "      <td>26.6</td>\n",
       "      <td>0.351</td>\n",
       "      <td>31</td>\n",
       "      <td>0</td>\n",
       "    </tr>\n",
       "    <tr>\n",
       "      <th>2</th>\n",
       "      <td>8</td>\n",
       "      <td>183</td>\n",
       "      <td>64</td>\n",
       "      <td>0</td>\n",
       "      <td>0</td>\n",
       "      <td>23.3</td>\n",
       "      <td>0.672</td>\n",
       "      <td>32</td>\n",
       "      <td>1</td>\n",
       "    </tr>\n",
       "    <tr>\n",
       "      <th>3</th>\n",
       "      <td>1</td>\n",
       "      <td>89</td>\n",
       "      <td>66</td>\n",
       "      <td>23</td>\n",
       "      <td>94</td>\n",
       "      <td>28.1</td>\n",
       "      <td>0.167</td>\n",
       "      <td>21</td>\n",
       "      <td>0</td>\n",
       "    </tr>\n",
       "    <tr>\n",
       "      <th>4</th>\n",
       "      <td>0</td>\n",
       "      <td>137</td>\n",
       "      <td>40</td>\n",
       "      <td>35</td>\n",
       "      <td>168</td>\n",
       "      <td>43.1</td>\n",
       "      <td>2.288</td>\n",
       "      <td>33</td>\n",
       "      <td>1</td>\n",
       "    </tr>\n",
       "  </tbody>\n",
       "</table>\n",
       "</div>"
      ],
      "text/plain": [
       "   Pregnancies  Glucose  BloodPressure  SkinThickness  Insulin   BMI  \\\n",
       "0            6      148             72             35        0  33.6   \n",
       "1            1       85             66             29        0  26.6   \n",
       "2            8      183             64              0        0  23.3   \n",
       "3            1       89             66             23       94  28.1   \n",
       "4            0      137             40             35      168  43.1   \n",
       "\n",
       "   DiabetesPedigreeFunction  Age  Outcome  \n",
       "0                     0.627   50        1  \n",
       "1                     0.351   31        0  \n",
       "2                     0.672   32        1  \n",
       "3                     0.167   21        0  \n",
       "4                     2.288   33        1  "
      ]
     },
     "execution_count": 2,
     "metadata": {},
     "output_type": "execute_result"
    }
   ],
   "source": [
    "# 1. Import thư viện cần thiết\n",
    "import pandas as pd\n",
    "import numpy as np\n",
    "\n",
    "# 2. Load dataset (sau khi đã add đúng dataset)\n",
    "df = pd.read_csv(\"/kaggle/input/pima-indians-diabetes-database/diabetes.csv\")\n",
    "\n",
    "# 3. Kiểm tra tổng quát\n",
    "df.head()\n"
   ]
  },
  {
   "cell_type": "markdown",
   "id": "6e967c76",
   "metadata": {
    "papermill": {
     "duration": 0.004147,
     "end_time": "2025-07-13T09:20:24.378833",
     "exception": false,
     "start_time": "2025-07-13T09:20:24.374686",
     "status": "completed"
    },
    "tags": []
   },
   "source": [
    "## 📊 Exploratory Data Analysis (EDA)\n",
    "\n",
    "We begin by exploring the dataset to understand the distribution of features, detect missing or invalid values (e.g., zeroes in medical measurements), and visualize the relationships between variables and the target label (`Outcome`).\n"
   ]
  },
  {
   "cell_type": "code",
   "execution_count": 3,
   "id": "1d5e3e62",
   "metadata": {
    "execution": {
     "iopub.execute_input": "2025-07-13T09:20:24.388608Z",
     "iopub.status.busy": "2025-07-13T09:20:24.388288Z",
     "iopub.status.idle": "2025-07-13T09:20:24.415781Z",
     "shell.execute_reply": "2025-07-13T09:20:24.414695Z"
    },
    "papermill": {
     "duration": 0.034166,
     "end_time": "2025-07-13T09:20:24.417243",
     "exception": false,
     "start_time": "2025-07-13T09:20:24.383077",
     "status": "completed"
    },
    "tags": []
   },
   "outputs": [
    {
     "name": "stdout",
     "output_type": "stream",
     "text": [
      "<class 'pandas.core.frame.DataFrame'>\n",
      "RangeIndex: 768 entries, 0 to 767\n",
      "Data columns (total 9 columns):\n",
      " #   Column                    Non-Null Count  Dtype  \n",
      "---  ------                    --------------  -----  \n",
      " 0   Pregnancies               768 non-null    int64  \n",
      " 1   Glucose                   768 non-null    int64  \n",
      " 2   BloodPressure             768 non-null    int64  \n",
      " 3   SkinThickness             768 non-null    int64  \n",
      " 4   Insulin                   768 non-null    int64  \n",
      " 5   BMI                       768 non-null    float64\n",
      " 6   DiabetesPedigreeFunction  768 non-null    float64\n",
      " 7   Age                       768 non-null    int64  \n",
      " 8   Outcome                   768 non-null    int64  \n",
      "dtypes: float64(2), int64(7)\n",
      "memory usage: 54.1 KB\n"
     ]
    }
   ],
   "source": [
    "df.info()"
   ]
  },
  {
   "cell_type": "code",
   "execution_count": 4,
   "id": "a4f168ca",
   "metadata": {
    "execution": {
     "iopub.execute_input": "2025-07-13T09:20:24.428337Z",
     "iopub.status.busy": "2025-07-13T09:20:24.427667Z",
     "iopub.status.idle": "2025-07-13T09:20:24.434328Z",
     "shell.execute_reply": "2025-07-13T09:20:24.433274Z"
    },
    "papermill": {
     "duration": 0.013842,
     "end_time": "2025-07-13T09:20:24.435890",
     "exception": false,
     "start_time": "2025-07-13T09:20:24.422048",
     "status": "completed"
    },
    "tags": []
   },
   "outputs": [
    {
     "name": "stdout",
     "output_type": "stream",
     "text": [
      "Glucose: 5 giá trị 0\n",
      "BloodPressure: 35 giá trị 0\n",
      "SkinThickness: 227 giá trị 0\n",
      "Insulin: 374 giá trị 0\n",
      "BMI: 11 giá trị 0\n"
     ]
    }
   ],
   "source": [
    "# Các cột không nên có giá trị 0 (vì không hợp lý về mặt y học)\n",
    "cols_with_zero = ['Glucose', 'BloodPressure', 'SkinThickness', 'Insulin', 'BMI']\n",
    "\n",
    "# Đếm số giá trị 0 ở mỗi cột\n",
    "for col in cols_with_zero:\n",
    "    zero_count = (df[col] == 0).sum()\n",
    "    print(f\"{col}: {zero_count} giá trị 0\")\n"
   ]
  },
  {
   "cell_type": "code",
   "execution_count": 5,
   "id": "c15e1899",
   "metadata": {
    "execution": {
     "iopub.execute_input": "2025-07-13T09:20:24.446106Z",
     "iopub.status.busy": "2025-07-13T09:20:24.445813Z",
     "iopub.status.idle": "2025-07-13T09:20:26.521428Z",
     "shell.execute_reply": "2025-07-13T09:20:26.520543Z"
    },
    "papermill": {
     "duration": 2.082247,
     "end_time": "2025-07-13T09:20:26.522809",
     "exception": false,
     "start_time": "2025-07-13T09:20:24.440562",
     "status": "completed"
    },
    "tags": []
   },
   "outputs": [
    {
     "data": {
      "image/png": "[encoded data removed]",
      "text/plain": [
       "<Figure size 640x480 with 1 Axes>"
      ]
     },
     "metadata": {},
     "output_type": "display_data"
    }
   ],
   "source": [
    "import seaborn as sns\n",
    "import matplotlib.pyplot as plt\n",
    "\n",
    "sns.countplot(x='Outcome', data=df)\n",
    "plt.title(\"Phân phối bệnh nhân có và không mắc tiểu đường\")\n",
    "plt.xlabel(\"Outcome (0 = Không bệnh, 1 = Có bệnh)\")\n",
    "plt.ylabel(\"Số lượng\")\n",
    "plt.show()"
   ]
  },
  {
   "cell_type": "code",
   "execution_count": 6,
   "id": "2345d45e",
   "metadata": {
    "execution": {
     "iopub.execute_input": "2025-07-13T09:20:26.535284Z",
     "iopub.status.busy": "2025-07-13T09:20:26.534805Z",
     "iopub.status.idle": "2025-07-13T09:20:26.971221Z",
     "shell.execute_reply": "2025-07-13T09:20:26.970133Z"
    },
    "papermill": {
     "duration": 0.446291,
     "end_time": "2025-07-13T09:20:26.974298",
     "exception": false,
     "start_time": "2025-07-13T09:20:26.528007",
     "status": "completed"
    },
    "tags": []
   },
   "outputs": [
    {
     "data": {
      "image/png": "[encoded data removed]",
      "text/plain": [
       "<Figure size 1000x800 with 2 Axes>"
      ]
     },
     "metadata": {},
     "output_type": "display_data"
    }
   ],
   "source": [
    "plt.figure(figsize=(10, 8))\n",
    "sns.heatmap(df.corr(), annot=True, fmt=\".2f\", cmap=\"coolwarm\", square=True)\n",
    "plt.title(\"Ma trận tương quan giữa các đặc trưng và Outcome\")\n",
    "plt.show()\n"
   ]
  },
  {
   "cell_type": "markdown",
   "id": "9fe3a2c1",
   "metadata": {
    "papermill": {
     "duration": 0.007147,
     "end_time": "2025-07-13T09:20:26.989209",
     "exception": false,
     "start_time": "2025-07-13T09:20:26.982062",
     "status": "completed"
    },
    "tags": []
   },
   "source": [
    "## 🧹 Data Cleaning & Preprocessing\n",
    "\n",
    "Before training our models, we need to clean the dataset by replacing biologically invalid zero values with more reasonable estimates (like the median). We also standardize the features to improve model convergence.\n"
   ]
  },
  {
   "cell_type": "code",
   "execution_count": 7,
   "id": "2136e25d",
   "metadata": {
    "execution": {
     "iopub.execute_input": "2025-07-13T09:20:27.005697Z",
     "iopub.status.busy": "2025-07-13T09:20:27.005316Z",
     "iopub.status.idle": "2025-07-13T09:20:27.020994Z",
     "shell.execute_reply": "2025-07-13T09:20:27.020018Z"
    },
    "papermill": {
     "duration": 0.025898,
     "end_time": "2025-07-13T09:20:27.022519",
     "exception": false,
     "start_time": "2025-07-13T09:20:26.996621",
     "status": "completed"
    },
    "tags": []
   },
   "outputs": [
    {
     "data": {
      "text/plain": [
       "Glucose          0\n",
       "BloodPressure    0\n",
       "SkinThickness    0\n",
       "Insulin          0\n",
       "BMI              0\n",
       "dtype: int64"
      ]
     },
     "execution_count": 7,
     "metadata": {},
     "output_type": "execute_result"
    }
   ],
   "source": [
    "# Các cột không nên có giá trị 0\n",
    "cols_to_fix = ['Glucose', 'BloodPressure', 'SkinThickness', 'Insulin', 'BMI']\n",
    "\n",
    "# Thay 0 bằng median của cột tương ứng\n",
    "for col in cols_to_fix:\n",
    "    median_val = df[col].median()\n",
    "    df[col] = df[col].replace(0, median_val)\n",
    "\n",
    "# Kiểm tra lại\n",
    "(df[cols_to_fix] == 0).sum()\n"
   ]
  },
  {
   "cell_type": "code",
   "execution_count": 8,
   "id": "bda79cb1",
   "metadata": {
    "execution": {
     "iopub.execute_input": "2025-07-13T09:20:27.039424Z",
     "iopub.status.busy": "2025-07-13T09:20:27.039080Z",
     "iopub.status.idle": "2025-07-13T09:20:27.047189Z",
     "shell.execute_reply": "2025-07-13T09:20:27.046429Z"
    },
    "papermill": {
     "duration": 0.018031,
     "end_time": "2025-07-13T09:20:27.048562",
     "exception": false,
     "start_time": "2025-07-13T09:20:27.030531",
     "status": "completed"
    },
    "tags": []
   },
   "outputs": [
    {
     "data": {
      "text/plain": [
       "0    1\n",
       "1    0\n",
       "2    1\n",
       "3    0\n",
       "4    1\n",
       "Name: Outcome, dtype: int64"
      ]
     },
     "execution_count": 8,
     "metadata": {},
     "output_type": "execute_result"
    }
   ],
   "source": [
    "X = df.drop('Outcome', axis=1)\n",
    "y = df['Outcome']\n",
    "y.head()"
   ]
  },
  {
   "cell_type": "code",
   "execution_count": 9,
   "id": "f3a4b70a",
   "metadata": {
    "execution": {
     "iopub.execute_input": "2025-07-13T09:20:27.066200Z",
     "iopub.status.busy": "2025-07-13T09:20:27.065875Z",
     "iopub.status.idle": "2025-07-13T09:20:27.267089Z",
     "shell.execute_reply": "2025-07-13T09:20:27.266165Z"
    },
    "papermill": {
     "duration": 0.211774,
     "end_time": "2025-07-13T09:20:27.268583",
     "exception": false,
     "start_time": "2025-07-13T09:20:27.056809",
     "status": "completed"
    },
    "tags": []
   },
   "outputs": [
    {
     "data": {
      "text/html": [
       "<div>\n",
       "<style scoped>\n",
       "    .dataframe tbody tr th:only-of-type {\n",
       "        vertical-align: middle;\n",
       "    }\n",
       "\n",
       "    .dataframe tbody tr th {\n",
       "        vertical-align: top;\n",
       "    }\n",
       "\n",
       "    .dataframe thead th {\n",
       "        text-align: right;\n",
       "    }\n",
       "</style>\n",
       "<table border=\"1\" class=\"dataframe\">\n",
       "  <thead>\n",
       "    <tr style=\"text-align: right;\">\n",
       "      <th></th>\n",
       "      <th>Pregnancies</th>\n",
       "      <th>Glucose</th>\n",
       "      <th>BloodPressure</th>\n",
       "      <th>SkinThickness</th>\n",
       "      <th>Insulin</th>\n",
       "      <th>BMI</th>\n",
       "      <th>DiabetesPedigreeFunction</th>\n",
       "      <th>Age</th>\n",
       "    </tr>\n",
       "  </thead>\n",
       "  <tbody>\n",
       "    <tr>\n",
       "      <th>0</th>\n",
       "      <td>0.639947</td>\n",
       "      <td>0.866045</td>\n",
       "      <td>-0.031990</td>\n",
       "      <td>0.831114</td>\n",
       "      <td>-0.608201</td>\n",
       "      <td>0.167240</td>\n",
       "      <td>0.468492</td>\n",
       "      <td>1.425995</td>\n",
       "    </tr>\n",
       "    <tr>\n",
       "      <th>1</th>\n",
       "      <td>-0.844885</td>\n",
       "      <td>-1.205066</td>\n",
       "      <td>-0.528319</td>\n",
       "      <td>0.180566</td>\n",
       "      <td>-0.608201</td>\n",
       "      <td>-0.851551</td>\n",
       "      <td>-0.365061</td>\n",
       "      <td>-0.190672</td>\n",
       "    </tr>\n",
       "    <tr>\n",
       "      <th>2</th>\n",
       "      <td>1.233880</td>\n",
       "      <td>2.016662</td>\n",
       "      <td>-0.693761</td>\n",
       "      <td>-0.469981</td>\n",
       "      <td>-0.608201</td>\n",
       "      <td>-1.331838</td>\n",
       "      <td>0.604397</td>\n",
       "      <td>-0.105584</td>\n",
       "    </tr>\n",
       "    <tr>\n",
       "      <th>3</th>\n",
       "      <td>-0.844885</td>\n",
       "      <td>-1.073567</td>\n",
       "      <td>-0.528319</td>\n",
       "      <td>-0.469981</td>\n",
       "      <td>-0.006185</td>\n",
       "      <td>-0.633239</td>\n",
       "      <td>-0.920763</td>\n",
       "      <td>-1.041549</td>\n",
       "    </tr>\n",
       "    <tr>\n",
       "      <th>4</th>\n",
       "      <td>-1.141852</td>\n",
       "      <td>0.504422</td>\n",
       "      <td>-2.679076</td>\n",
       "      <td>0.831114</td>\n",
       "      <td>0.695378</td>\n",
       "      <td>1.549885</td>\n",
       "      <td>5.484909</td>\n",
       "      <td>-0.020496</td>\n",
       "    </tr>\n",
       "  </tbody>\n",
       "</table>\n",
       "</div>"
      ],
      "text/plain": [
       "   Pregnancies   Glucose  BloodPressure  SkinThickness   Insulin       BMI  \\\n",
       "0     0.639947  0.866045      -0.031990       0.831114 -0.608201  0.167240   \n",
       "1    -0.844885 -1.205066      -0.528319       0.180566 -0.608201 -0.851551   \n",
       "2     1.233880  2.016662      -0.693761      -0.469981 -0.608201 -1.331838   \n",
       "3    -0.844885 -1.073567      -0.528319      -0.469981 -0.006185 -0.633239   \n",
       "4    -1.141852  0.504422      -2.679076       0.831114  0.695378  1.549885   \n",
       "\n",
       "   DiabetesPedigreeFunction       Age  \n",
       "0                  0.468492  1.425995  \n",
       "1                 -0.365061 -0.190672  \n",
       "2                  0.604397 -0.105584  \n",
       "3                 -0.920763 -1.041549  \n",
       "4                  5.484909 -0.020496  "
      ]
     },
     "execution_count": 9,
     "metadata": {},
     "output_type": "execute_result"
    }
   ],
   "source": [
    "from sklearn.preprocessing import StandardScaler\n",
    "\n",
    "scaler = StandardScaler()\n",
    "X_scaled = scaler.fit_transform(X)\n",
    "\n",
    "# Chuyển kết quả về DataFrame (gắn lại tên cột)\n",
    "X_scaled_df = pd.DataFrame(X_scaled, columns=X.columns)\n",
    "\n",
    "X_scaled_df.head()\n"
   ]
  },
  {
   "cell_type": "code",
   "execution_count": 10,
   "id": "f4b06f28",
   "metadata": {
    "execution": {
     "iopub.execute_input": "2025-07-13T09:20:27.286177Z",
     "iopub.status.busy": "2025-07-13T09:20:27.285834Z",
     "iopub.status.idle": "2025-07-13T09:20:27.409204Z",
     "shell.execute_reply": "2025-07-13T09:20:27.408440Z"
    },
    "papermill": {
     "duration": 0.133736,
     "end_time": "2025-07-13T09:20:27.410515",
     "exception": false,
     "start_time": "2025-07-13T09:20:27.276779",
     "status": "completed"
    },
    "tags": []
   },
   "outputs": [
    {
     "data": {
      "text/plain": [
       "353    0\n",
       "711    0\n",
       "373    0\n",
       "46     0\n",
       "682    0\n",
       "Name: Outcome, dtype: int64"
      ]
     },
     "execution_count": 10,
     "metadata": {},
     "output_type": "execute_result"
    }
   ],
   "source": [
    "from sklearn.model_selection import train_test_split\n",
    "\n",
    "X_train, X_test, y_train, y_test = train_test_split(\n",
    "    X_scaled_df, y, test_size=0.2, random_state=42, stratify=y\n",
    ")\n",
    "\n",
    "y_train.head()"
   ]
  },
  {
   "cell_type": "markdown",
   "id": "b29d40d6",
   "metadata": {
    "papermill": {
     "duration": 0.008335,
     "end_time": "2025-07-13T09:20:27.427510",
     "exception": false,
     "start_time": "2025-07-13T09:20:27.419175",
     "status": "completed"
    },
    "tags": []
   },
   "source": [
    "## 🤖 Model Training & Evaluation\n",
    "\n",
    "We will train both basic and ensemble models to predict diabetes. Evaluation will be done using accuracy and classification metrics on the test set.\n"
   ]
  },
  {
   "cell_type": "code",
   "execution_count": 11,
   "id": "55d9f00b",
   "metadata": {
    "execution": {
     "iopub.execute_input": "2025-07-13T09:20:27.444968Z",
     "iopub.status.busy": "2025-07-13T09:20:27.444669Z",
     "iopub.status.idle": "2025-07-13T09:20:27.449979Z",
     "shell.execute_reply": "2025-07-13T09:20:27.449145Z"
    },
    "papermill": {
     "duration": 0.015645,
     "end_time": "2025-07-13T09:20:27.451347",
     "exception": false,
     "start_time": "2025-07-13T09:20:27.435702",
     "status": "completed"
    },
    "tags": []
   },
   "outputs": [],
   "source": [
    "from sklearn.metrics import accuracy_score, confusion_matrix, classification_report\n",
    "\n",
    "def evaluate_model(model, X_test, y_test):\n",
    "    y_pred = model.predict(X_test)\n",
    "    acc = accuracy_score(y_test, y_pred)\n",
    "    print(\"Accuracy:\", acc)\n",
    "    print(\"\\nClassification Report:\\n\", classification_report(y_test, y_pred))\n",
    "    print(\"Confusion Matrix:\\n\", confusion_matrix(y_test, y_pred))\n"
   ]
  },
  {
   "cell_type": "code",
   "execution_count": 12,
   "id": "dba5aae6",
   "metadata": {
    "execution": {
     "iopub.execute_input": "2025-07-13T09:20:27.469419Z",
     "iopub.status.busy": "2025-07-13T09:20:27.468687Z",
     "iopub.status.idle": "2025-07-13T09:20:27.605310Z",
     "shell.execute_reply": "2025-07-13T09:20:27.604416Z"
    },
    "papermill": {
     "duration": 0.147448,
     "end_time": "2025-07-13T09:20:27.607248",
     "exception": false,
     "start_time": "2025-07-13T09:20:27.459800",
     "status": "completed"
    },
    "tags": []
   },
   "outputs": [
    {
     "name": "stdout",
     "output_type": "stream",
     "text": [
      "Logistic Regression:\n",
      "Accuracy: 0.7077922077922078\n",
      "\n",
      "Classification Report:\n",
      "               precision    recall  f1-score   support\n",
      "\n",
      "           0       0.75      0.82      0.78       100\n",
      "           1       0.60      0.50      0.55        54\n",
      "\n",
      "    accuracy                           0.71       154\n",
      "   macro avg       0.68      0.66      0.67       154\n",
      "weighted avg       0.70      0.71      0.70       154\n",
      "\n",
      "Confusion Matrix:\n",
      " [[82 18]\n",
      " [27 27]]\n"
     ]
    }
   ],
   "source": [
    "from sklearn.linear_model import LogisticRegression\n",
    "\n",
    "lr = LogisticRegression()\n",
    "lr.fit(X_train, y_train)\n",
    "\n",
    "print(\"Logistic Regression:\")\n",
    "evaluate_model(lr, X_test, y_test)\n"
   ]
  },
  {
   "cell_type": "code",
   "execution_count": 13,
   "id": "a5b8c261",
   "metadata": {
    "execution": {
     "iopub.execute_input": "2025-07-13T09:20:27.635199Z",
     "iopub.status.busy": "2025-07-13T09:20:27.634818Z",
     "iopub.status.idle": "2025-07-13T09:20:27.851043Z",
     "shell.execute_reply": "2025-07-13T09:20:27.850053Z"
    },
    "papermill": {
     "duration": 0.232623,
     "end_time": "2025-07-13T09:20:27.853100",
     "exception": false,
     "start_time": "2025-07-13T09:20:27.620477",
     "status": "completed"
    },
    "tags": []
   },
   "outputs": [
    {
     "name": "stdout",
     "output_type": "stream",
     "text": [
      "Decision Tree:\n",
      "Accuracy: 0.6688311688311688\n",
      "\n",
      "Classification Report:\n",
      "               precision    recall  f1-score   support\n",
      "\n",
      "           0       0.72      0.79      0.76       100\n",
      "           1       0.53      0.44      0.48        54\n",
      "\n",
      "    accuracy                           0.67       154\n",
      "   macro avg       0.63      0.62      0.62       154\n",
      "weighted avg       0.66      0.67      0.66       154\n",
      "\n",
      "Confusion Matrix:\n",
      " [[79 21]\n",
      " [30 24]]\n"
     ]
    }
   ],
   "source": [
    "from sklearn.tree import DecisionTreeClassifier\n",
    "\n",
    "dt = DecisionTreeClassifier(random_state=42)\n",
    "dt.fit(X_train, y_train)\n",
    "\n",
    "print(\"Decision Tree:\")\n",
    "evaluate_model(dt, X_test, y_test)\n"
   ]
  },
  {
   "cell_type": "code",
   "execution_count": 14,
   "id": "72f232b6",
   "metadata": {
    "execution": {
     "iopub.execute_input": "2025-07-13T09:20:27.871429Z",
     "iopub.status.busy": "2025-07-13T09:20:27.871129Z",
     "iopub.status.idle": "2025-07-13T09:20:27.899279Z",
     "shell.execute_reply": "2025-07-13T09:20:27.898168Z"
    },
    "papermill": {
     "duration": 0.039045,
     "end_time": "2025-07-13T09:20:27.900865",
     "exception": false,
     "start_time": "2025-07-13T09:20:27.861820",
     "status": "completed"
    },
    "tags": []
   },
   "outputs": [
    {
     "name": "stdout",
     "output_type": "stream",
     "text": [
      "K-Nearest Neighbors:\n",
      "Accuracy: 0.7077922077922078\n",
      "\n",
      "Classification Report:\n",
      "               precision    recall  f1-score   support\n",
      "\n",
      "           0       0.76      0.81      0.78       100\n",
      "           1       0.60      0.52      0.55        54\n",
      "\n",
      "    accuracy                           0.71       154\n",
      "   macro avg       0.68      0.66      0.67       154\n",
      "weighted avg       0.70      0.71      0.70       154\n",
      "\n",
      "Confusion Matrix:\n",
      " [[81 19]\n",
      " [26 28]]\n"
     ]
    }
   ],
   "source": [
    "from sklearn.neighbors import KNeighborsClassifier\n",
    "\n",
    "knn = KNeighborsClassifier(n_neighbors=5)\n",
    "knn.fit(X_train, y_train)\n",
    "\n",
    "print(\"K-Nearest Neighbors:\")\n",
    "evaluate_model(knn, X_test, y_test)\n"
   ]
  },
  {
   "cell_type": "code",
   "execution_count": 15,
   "id": "eb1c9da2",
   "metadata": {
    "execution": {
     "iopub.execute_input": "2025-07-13T09:20:27.918899Z",
     "iopub.status.busy": "2025-07-13T09:20:27.918547Z",
     "iopub.status.idle": "2025-07-13T09:20:28.242209Z",
     "shell.execute_reply": "2025-07-13T09:20:28.241032Z"
    },
    "papermill": {
     "duration": 0.334626,
     "end_time": "2025-07-13T09:20:28.243999",
     "exception": false,
     "start_time": "2025-07-13T09:20:27.909373",
     "status": "completed"
    },
    "tags": []
   },
   "outputs": [
    {
     "name": "stdout",
     "output_type": "stream",
     "text": [
      "Random Forest:\n",
      "Accuracy: 0.7597402597402597\n",
      "\n",
      "Classification Report:\n",
      "               precision    recall  f1-score   support\n",
      "\n",
      "           0       0.79      0.85      0.82       100\n",
      "           1       0.68      0.59      0.63        54\n",
      "\n",
      "    accuracy                           0.76       154\n",
      "   macro avg       0.74      0.72      0.73       154\n",
      "weighted avg       0.75      0.76      0.76       154\n",
      "\n",
      "Confusion Matrix:\n",
      " [[85 15]\n",
      " [22 32]]\n"
     ]
    }
   ],
   "source": [
    "from sklearn.ensemble import RandomForestClassifier\n",
    "\n",
    "rf = RandomForestClassifier(random_state=42)\n",
    "rf.fit(X_train, y_train)\n",
    "\n",
    "print(\"Random Forest:\")\n",
    "evaluate_model(rf, X_test, y_test)\n"
   ]
  },
  {
   "cell_type": "code",
   "execution_count": 16,
   "id": "971e7d90",
   "metadata": {
    "execution": {
     "iopub.execute_input": "2025-07-13T09:20:28.262015Z",
     "iopub.status.busy": "2025-07-13T09:20:28.261703Z",
     "iopub.status.idle": "2025-07-13T09:20:28.384412Z",
     "shell.execute_reply": "2025-07-13T09:20:28.383208Z"
    },
    "papermill": {
     "duration": 0.133521,
     "end_time": "2025-07-13T09:20:28.386134",
     "exception": false,
     "start_time": "2025-07-13T09:20:28.252613",
     "status": "completed"
    },
    "tags": []
   },
   "outputs": [
    {
     "name": "stdout",
     "output_type": "stream",
     "text": [
      "AdaBoost:\n",
      "Accuracy: 0.7467532467532467\n",
      "\n",
      "Classification Report:\n",
      "               precision    recall  f1-score   support\n",
      "\n",
      "           0       0.79      0.83      0.81       100\n",
      "           1       0.65      0.59      0.62        54\n",
      "\n",
      "    accuracy                           0.75       154\n",
      "   macro avg       0.72      0.71      0.72       154\n",
      "weighted avg       0.74      0.75      0.74       154\n",
      "\n",
      "Confusion Matrix:\n",
      " [[83 17]\n",
      " [22 32]]\n"
     ]
    }
   ],
   "source": [
    "from sklearn.ensemble import AdaBoostClassifier\n",
    "ab = AdaBoostClassifier(random_state=42)\n",
    "ab.fit(X_train, y_train)\n",
    "\n",
    "print(\"AdaBoost:\")\n",
    "evaluate_model(ab, X_test, y_test)"
   ]
  },
  {
   "cell_type": "code",
   "execution_count": 17,
   "id": "385291bb",
   "metadata": {
    "execution": {
     "iopub.execute_input": "2025-07-13T09:20:28.405163Z",
     "iopub.status.busy": "2025-07-13T09:20:28.404459Z",
     "iopub.status.idle": "2025-07-13T09:20:28.577479Z",
     "shell.execute_reply": "2025-07-13T09:20:28.576388Z"
    },
    "papermill": {
     "duration": 0.183867,
     "end_time": "2025-07-13T09:20:28.578956",
     "exception": false,
     "start_time": "2025-07-13T09:20:28.395089",
     "status": "completed"
    },
    "tags": []
   },
   "outputs": [
    {
     "name": "stdout",
     "output_type": "stream",
     "text": [
      "Gradient Boosting:\n",
      "Accuracy: 0.7597402597402597\n",
      "\n",
      "Classification Report:\n",
      "               precision    recall  f1-score   support\n",
      "\n",
      "           0       0.79      0.85      0.82       100\n",
      "           1       0.68      0.59      0.63        54\n",
      "\n",
      "    accuracy                           0.76       154\n",
      "   macro avg       0.74      0.72      0.73       154\n",
      "weighted avg       0.75      0.76      0.76       154\n",
      "\n",
      "Confusion Matrix:\n",
      " [[85 15]\n",
      " [22 32]]\n"
     ]
    }
   ],
   "source": [
    "from sklearn.ensemble import GradientBoostingClassifier\n",
    "\n",
    "gb = GradientBoostingClassifier(random_state=42)\n",
    "gb.fit(X_train, y_train)\n",
    "\n",
    "print(\"Gradient Boosting:\")\n",
    "evaluate_model(gb, X_test, y_test)\n"
   ]
  },
  {
   "cell_type": "code",
   "execution_count": 18,
   "id": "cad7781c",
   "metadata": {
    "execution": {
     "iopub.execute_input": "2025-07-13T09:20:28.597837Z",
     "iopub.status.busy": "2025-07-13T09:20:28.597451Z",
     "iopub.status.idle": "2025-07-13T09:20:29.144120Z",
     "shell.execute_reply": "2025-07-13T09:20:29.142386Z"
    },
    "papermill": {
     "duration": 0.557926,
     "end_time": "2025-07-13T09:20:29.145877",
     "exception": false,
     "start_time": "2025-07-13T09:20:28.587951",
     "status": "completed"
    },
    "tags": []
   },
   "outputs": [
    {
     "name": "stdout",
     "output_type": "stream",
     "text": [
      "XGBoost:\n",
      "Accuracy: 0.7727272727272727\n",
      "\n",
      "Classification Report:\n",
      "               precision    recall  f1-score   support\n",
      "\n",
      "           0       0.80      0.86      0.83       100\n",
      "           1       0.70      0.61      0.65        54\n",
      "\n",
      "    accuracy                           0.77       154\n",
      "   macro avg       0.75      0.74      0.74       154\n",
      "weighted avg       0.77      0.77      0.77       154\n",
      "\n",
      "Confusion Matrix:\n",
      " [[86 14]\n",
      " [21 33]]\n"
     ]
    }
   ],
   "source": [
    "from xgboost import XGBClassifier\n",
    "\n",
    "xgb = XGBClassifier(use_label_encoder=False, eval_metric='logloss', random_state=42)\n",
    "xgb.fit(X_train, y_train)\n",
    "\n",
    "print(\"XGBoost:\")\n",
    "evaluate_model(xgb, X_test, y_test)\n"
   ]
  },
  {
   "cell_type": "code",
   "execution_count": 19,
   "id": "249404b5",
   "metadata": {
    "execution": {
     "iopub.execute_input": "2025-07-13T09:20:29.165131Z",
     "iopub.status.busy": "2025-07-13T09:20:29.164821Z",
     "iopub.status.idle": "2025-07-13T09:20:29.621043Z",
     "shell.execute_reply": "2025-07-13T09:20:29.619964Z"
    },
    "papermill": {
     "duration": 0.467316,
     "end_time": "2025-07-13T09:20:29.622591",
     "exception": false,
     "start_time": "2025-07-13T09:20:29.155275",
     "status": "completed"
    },
    "tags": []
   },
   "outputs": [
    {
     "name": "stdout",
     "output_type": "stream",
     "text": [
      "Voting Classifier:\n",
      "Accuracy: 0.7337662337662337\n",
      "\n",
      "Classification Report:\n",
      "               precision    recall  f1-score   support\n",
      "\n",
      "           0       0.78      0.83      0.80       100\n",
      "           1       0.64      0.56      0.59        54\n",
      "\n",
      "    accuracy                           0.73       154\n",
      "   macro avg       0.71      0.69      0.70       154\n",
      "weighted avg       0.73      0.73      0.73       154\n",
      "\n",
      "Confusion Matrix:\n",
      " [[83 17]\n",
      " [24 30]]\n"
     ]
    }
   ],
   "source": [
    "from sklearn.ensemble import VotingClassifier\n",
    "\n",
    "voting = VotingClassifier(\n",
    "    estimators=[\n",
    "        ('lr', LogisticRegression()),\n",
    "        ('rf', RandomForestClassifier()),\n",
    "        ('gb', GradientBoostingClassifier())\n",
    "    ],\n",
    "    voting='soft'\n",
    ")\n",
    "\n",
    "voting.fit(X_train, y_train)\n",
    "\n",
    "print(\"Voting Classifier:\")\n",
    "evaluate_model(voting, X_test, y_test)\n"
   ]
  }
 ],
 "metadata": {
  "kaggle": {
   "accelerator": "none",
   "dataSources": [
    {
     "datasetId": 228,
     "sourceId": 482,
     "sourceType": "datasetVersion"
    }
   ],
   "dockerImageVersionId": 31089,
   "isGpuEnabled": false,
   "isInternetEnabled": false,
   "language": "python",
   "sourceType": "notebook"
  },
  "kernelspec": {
   "display_name": "Python 3",
   "language": "python",
   "name": "python3"
  },
  "language_info": {
   "codemirror_mode": {
    "name": "ipython",
    "version": 3
   },
   "file_extension": ".py",
   "mimetype": "text/x-python",
   "name": "python",
   "nbconvert_exporter": "python",
   "pygments_lexer": "ipython3",
   "version": "3.11.13"
  },
  "papermill": {
   "default_parameters": {},
   "duration": 13.943639,
   "end_time": "2025-07-13T09:20:30.352741",
   "environment_variables": {},
   "exception": null,
   "input_path": "__notebook__.ipynb",
   "output_path": "__notebook__.ipynb",
   "parameters": {},
   "start_time": "2025-07-13T09:20:16.409102",
   "version": "2.6.0"
  }
 },
 "nbformat": 4,
 "nbformat_minor": 5
}
